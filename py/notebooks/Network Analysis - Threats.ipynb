{
 "cells": [
  {
   "cell_type": "code",
   "execution_count": 1,
   "metadata": {},
   "outputs": [
    {
     "data": {
      "text/html": [
       "        <script type=\"text/javascript\">\n",
       "        window.PlotlyConfig = {MathJaxConfig: 'local'};\n",
       "        if (window.MathJax) {MathJax.Hub.Config({SVG: {font: \"STIX-Web\"}});}\n",
       "        if (typeof require !== 'undefined') {\n",
       "        require.undef(\"plotly\");\n",
       "        requirejs.config({\n",
       "            paths: {\n",
       "                'plotly': ['https://cdn.plot.ly/plotly-latest.min']\n",
       "            }\n",
       "        });\n",
       "        require(['plotly'], function(Plotly) {\n",
       "            window._Plotly = Plotly;\n",
       "        });\n",
       "        }\n",
       "        </script>\n",
       "        "
      ]
     },
     "metadata": {},
     "output_type": "display_data"
    }
   ],
   "source": [
    "import numpy as np\n",
    "import pandas as pd\n",
    "import igraph as ig\n",
    "import chart_studio.plotly as py\n",
    "import plotly.graph_objs as go\n",
    "from plotly.offline import download_plotlyjs, init_notebook_mode, plot, iplot\n",
    "from IPython.display import Image\n",
    "\n",
    "init_notebook_mode(connected=True)"
   ]
  },
  {
   "cell_type": "code",
   "execution_count": 2,
   "metadata": {},
   "outputs": [],
   "source": [
    "# Helper functions\n",
    "\n",
    "def dist(A, B):\n",
    "    return np.linalg.norm(np.array(A)-np.array(B))\n",
    "\n",
    "def get_idx_interv(d, D):\n",
    "    k=0\n",
    "    while(d>D[k]): \n",
    "        k+=1\n",
    "    return  k-1\n",
    "\n",
    "def deCasteljau(b,t): \n",
    "    N=len(b) \n",
    "    if(N<2):\n",
    "        raise InvalidInputError(\"The  control polygon must have at least two points\")\n",
    "    a=np.copy(b) #shallow copy of the list of control points \n",
    "    for r in range(1,N): \n",
    "        a[:N-r,:]=(1-t)*a[:N-r,:]+t*a[1:N-r+1,:]                             \n",
    "    return a[0,:]\n",
    "\n",
    "def BezierCv(b, nr=5):\n",
    "    t=np.linspace(0, 1, nr)\n",
    "    return np.array([deCasteljau(b, t[k]) for k in range(nr)])\n",
    "\n",
    "Dist=[0, dist([1,0], 2*[np.sqrt(2)/2]), np.sqrt(2), dist([1,0],  [-np.sqrt(2)/2, np.sqrt(2)/2]), 2.0]\n",
    "params=[1.2, 1.5, 1.8, 2.1]"
   ]
  },
  {
   "cell_type": "code",
   "execution_count": 3,
   "metadata": {},
   "outputs": [],
   "source": [
    "# Read the data file\n",
    "df = pd.read_csv('./Data/Threat Overlap Bio.csv')\n",
    "categories = list(set(df['A'].tolist() + df['B'].tolist()))\n",
    "\n",
    "# Remove edges which have a contribution of less than 2000000\n",
    "df.loc[df['n'] <  2000000, 'n'] = 0.0"
   ]
  },
  {
   "cell_type": "code",
   "execution_count": 4,
   "metadata": {},
   "outputs": [],
   "source": [
    "# Create the graph network\n",
    "g = ig.Graph.Full(len(categories))\n",
    "g.vs['name'] = categories\n",
    "g.es[\"weight\"] = 0.0\n",
    "\n",
    "for idx, row in df.iterrows():\n",
    "    if row['A'] == row['B']:\n",
    "        continue\n",
    "    # Scale the contribution by a factor of 60000\n",
    "    g[row['A'], row['B']] += row['n']/60000.0\n",
    "g.es.select(weight=0.0).delete()\n",
    "\n",
    "layt = g.layout('circular') #circular layout\n",
    "Weights = list(map(int, g.es[\"weight\"]))\n",
    "V=list(g.vs)\n",
    "labels=[v['name']  for v in V]\n",
    "E=[e.tuple for e in g.es]# list of edges\n",
    "\n",
    "node_color=['#FF0000' for v in g.vs] \n",
    "line_color=['rgb(342,342,342)' for v in g.vs]\n",
    "edge_colors=['#000000','#000000', '#000000', '#000000']\n",
    "\n",
    "Xn=[layt[k][0] for k in range(len(layt))]\n",
    "Yn=[layt[k][1] for k in range(len(layt))]\n",
    "\n",
    "lines=[] # the list of dicts defining edge Plotly attributes\n",
    "edge_info=[] # the list of points on edges where the information is placed"
   ]
  },
  {
   "cell_type": "code",
   "execution_count": 5,
   "metadata": {},
   "outputs": [],
   "source": [
    "# Percentage contrbutions of every category\n",
    "marker_size_dict = {}\n",
    "marker_size_dict['OE'] = 0.3588109538682985\n",
    "marker_size_dict['IS'] = 0.08341313937829264\n",
    "marker_size_dict['CC'] = 0.3027677823015496\n",
    "marker_size_dict['ET'] = 0.08004130412646482\n",
    "marker_size_dict['P'] = 0.052836471758225034\n",
    "marker_size_dict['HL'] = 0.1221303485671694\n",
    "\n",
    "# Marker sizes based on Percentage contributions\n",
    "threat_marker_size = []\n",
    "for label in labels:\n",
    "    threat_marker_size.append(marker_size_dict[label])\n",
    "for idx in range(len(threat_marker_size)):\n",
    "    threat_marker_size[idx] = np.log(threat_marker_size[idx]*100)*40"
   ]
  },
  {
   "cell_type": "code",
   "execution_count": 6,
   "metadata": {},
   "outputs": [],
   "source": [
    "# Plot the Network Analysis\n",
    "for j, e in enumerate(E):\n",
    "    A=np.array(layt[e[0]])\n",
    "    B=np.array(layt[e[1]])\n",
    "    d=dist(A, B)\n",
    "    K=get_idx_interv(d, Dist)\n",
    "    b=[A, A/params[K], B/params[K], B]\n",
    "    color=edge_colors[K]\n",
    "    pts=BezierCv(b, nr=5)\n",
    "    text=V[e[0]]['name']+' to '+V[e[1]]['name']+' '+str(Weights[j])+' x100000'\n",
    "    mark=deCasteljau(b,0.9)\n",
    "    \n",
    "    edge_info.append(go.Scatter(x=[mark[0]],\n",
    "                             y=[mark[1]],\n",
    "                             mode='markers',\n",
    "                             marker=dict(size=0.5, color=edge_colors),\n",
    "                             text=None,\n",
    "                             hoverinfo='text'\n",
    "                             )\n",
    "                    )\n",
    "    \n",
    "    lines.append(go.Scatter(x=pts[:,0],\n",
    "                         y=pts[:,1],\n",
    "                         mode='lines',\n",
    "                         line=dict(color=color,\n",
    "                                  shape='spline',\n",
    "                                  width=Weights[j]/100#The  width is proportional to the edge weight\n",
    "                                 ),\n",
    "                        text=str(Weights[j]),\n",
    "                        hoverinfo='text'\n",
    "                       )\n",
    "                )\n",
    "\n",
    "trace2=go.Scatter(x=Xn,\n",
    "           y=Yn,\n",
    "           mode='markers+text',\n",
    "           name='',\n",
    "           marker=dict(symbol='circle',\n",
    "                         size=threat_marker_size,\n",
    "                         color=node_color,\n",
    "                         line=dict(color=line_color, width=0.5)\n",
    "                         ),\n",
    "           text=labels,\n",
    "           hoverinfo='text',\n",
    "           )\n",
    "\n",
    "axis=dict(showline=False, # hide axis line, grid, ticklabels and  title\n",
    "          zeroline=False,\n",
    "          showgrid=False,\n",
    "          showticklabels=False,\n",
    "          title=''\n",
    "          )\n",
    "\n",
    "\n",
    "width=800\n",
    "height=850\n",
    "layout=go.Layout(title= 'Threat Overlap',\n",
    "              font= dict(size=20),\n",
    "              showlegend=False,\n",
    "              autosize=True,\n",
    "              width=width,\n",
    "              height=height,\n",
    "              xaxis=dict(axis),\n",
    "              yaxis=dict(axis),\n",
    "              margin=dict(l=20,\n",
    "                            r=20,\n",
    "                            b=85,\n",
    "                            t=100,\n",
    "                          ),\n",
    "              hovermode='closest',\n",
    "              paper_bgcolor='rgba(0,0,0,0)',\n",
    "              plot_bgcolor='rgba(0,0,0,0)'   \n",
    "              )\n",
    "\n",
    "data=lines+edge_info+[trace2]\n",
    "fig=go.Figure(data=data, layout=layout)"
   ]
  },
  {
   "cell_type": "code",
   "execution_count": 7,
   "metadata": {},
   "outputs": [
    {
     "data": {
      "application/vnd.plotly.v1+json": {
       "config": {
        "plotlyServerURL": "https://plot.ly"
       },
       "data": [
        {
         "hoverinfo": "text",
         "line": {
          "color": "#000000",
          "shape": "spline",
          "width": 1.52
         },
         "mode": "lines",
         "text": "152",
         "type": "scatter",
         "x": [
          0.5000000000000001,
          0.2968750000000001,
          1.1102230246251565e-16,
          -0.29687499999999983,
          -0.4999999999999998
         ],
         "y": [
          0.8660254037844386,
          0.7036456405748563,
          0.649519052838329,
          0.7036456405748566,
          0.8660254037844388
         ]
        },
        {
         "hoverinfo": "text",
         "line": {
          "color": "#000000",
          "shape": "spline",
          "width": 1.1
         },
         "mode": "lines",
         "text": "110",
         "type": "scatter",
         "x": [
          0.5000000000000001,
          0.27008928571428575,
          -1.1102230246251565e-16,
          -0.2700892857142859,
          -0.5000000000000004
         ],
         "y": [
          0.8660254037844386,
          0.4678083654371298,
          5.551115123125783e-17,
          -0.46780836543712967,
          -0.8660254037844384
         ]
        },
        {
         "hoverinfo": "text",
         "line": {
          "color": "#000000",
          "shape": "spline",
          "width": 10.76
         },
         "mode": "lines",
         "text": "1076",
         "type": "scatter",
         "x": [
          0.5000000000000001,
          0.375,
          0.3333333333333331,
          0.37499999999999944,
          0.4999999999999993
         ],
         "y": [
          0.8660254037844386,
          0.48713928962874664,
          -1.6653345369377348e-16,
          -0.487139289628747,
          -0.866025403784439
         ]
        },
        {
         "hoverinfo": "text",
         "line": {
          "color": "#000000",
          "shape": "spline",
          "width": 0.42
         },
         "mode": "lines",
         "text": "42",
         "type": "scatter",
         "x": [
          -0.4999999999999998,
          -0.3749999999999999,
          -0.33333333333333337,
          -0.3750000000000003,
          -0.5000000000000004
         ],
         "y": [
          0.8660254037844388,
          0.48713928962874686,
          1.3877787807814457e-16,
          -0.4871392896287466,
          -0.8660254037844384
         ]
        },
        {
         "hoverinfo": "text",
         "line": {
          "color": "#000000",
          "shape": "spline",
          "width": 3.17
         },
         "mode": "lines",
         "text": "317",
         "type": "scatter",
         "x": [
          -0.4999999999999998,
          -0.2700892857142856,
          -1.3877787807814457e-16,
          0.27008928571428525,
          0.4999999999999993
         ],
         "y": [
          0.8660254037844388,
          0.46780836543712984,
          -5.551115123125783e-17,
          -0.46780836543713,
          -0.866025403784439
         ]
        },
        {
         "hoverinfo": "text",
         "line": {
          "color": "#000000",
          "shape": "spline",
          "width": 1.07
         },
         "mode": "lines",
         "text": "107",
         "type": "scatter",
         "x": [
          -1,
          -0.7578125,
          -0.5625000000000002,
          -0.46093750000000033,
          -0.5000000000000004
         ],
         "y": [
          1.2246467991473532e-16,
          -0.09472152853892286,
          -0.3247595264191644,
          -0.6089241120359333,
          -0.8660254037844384
         ]
        },
        {
         "hoverinfo": "text",
         "line": {
          "color": "#000000",
          "shape": "spline",
          "width": 2.12
         },
         "mode": "lines",
         "text": "212",
         "type": "scatter",
         "x": [
          -1,
          -0.609375,
          -0.16666666666666696,
          0.23437499999999953,
          0.4999999999999993
         ],
         "y": [
          1.2246467991473532e-16,
          -0.08118988160479107,
          -0.288675134594813,
          -0.5683291712335381,
          -0.866025403784439
         ]
        },
        {
         "hoverinfo": "text",
         "line": {
          "color": "#000000",
          "shape": "spline",
          "width": 7.9
         },
         "mode": "lines",
         "text": "790",
         "type": "scatter",
         "x": [
          -0.5000000000000004,
          -0.29687500000000044,
          -4.440892098500626e-16,
          0.29687499999999944,
          0.4999999999999993
         ],
         "y": [
          -0.8660254037844384,
          -0.7036456405748563,
          -0.6495190528383291,
          -0.7036456405748568,
          -0.866025403784439
         ]
        },
        {
         "hoverinfo": "text",
         "marker": {
          "color": [
           "#000000",
           "#000000",
           "#000000",
           "#000000"
          ],
          "size": 0.5
         },
         "mode": "markers",
         "type": "scatter",
         "x": [
          -0.43599999999999983
         ],
         "y": [
          0.7880831174438393
         ]
        },
        {
         "hoverinfo": "text",
         "marker": {
          "color": [
           "#000000",
           "#000000",
           "#000000",
           "#000000"
          ],
          "size": 0.5
         },
         "mode": "markers",
         "type": "scatter",
         "x": [
          -0.41542857142857187
         ],
         "y": [
          -0.719543392630042
         ]
        },
        {
         "hoverinfo": "text",
         "marker": {
          "color": [
           "#000000",
           "#000000",
           "#000000",
           "#000000"
          ],
          "size": 0.5
         },
         "mode": "markers",
         "type": "scatter",
         "x": [
          0.4399999999999994
         ],
         "y": [
          -0.7343895424092044
         ]
        },
        {
         "hoverinfo": "text",
         "marker": {
          "color": [
           "#000000",
           "#000000",
           "#000000",
           "#000000"
          ],
          "size": 0.5
         },
         "mode": "markers",
         "type": "scatter",
         "x": [
          -0.4400000000000004
         ],
         "y": [
          -0.7343895424092038
         ]
        },
        {
         "hoverinfo": "text",
         "marker": {
          "color": [
           "#000000",
           "#000000",
           "#000000",
           "#000000"
          ],
          "size": 0.5
         },
         "mode": "markers",
         "type": "scatter",
         "x": [
          0.4154285714285708
         ],
         "y": [
          -0.7195433926300426
         ]
        },
        {
         "hoverinfo": "text",
         "marker": {
          "color": [
           "#000000",
           "#000000",
           "#000000",
           "#000000"
          ],
          "size": 0.5
         },
         "mode": "markers",
         "type": "scatter",
         "x": [
          -0.4645000000000004
         ],
         "y": [
          -0.7716286347719348
         ]
        },
        {
         "hoverinfo": "text",
         "marker": {
          "color": [
           "#000000",
           "#000000",
           "#000000",
           "#000000"
          ],
          "size": 0.5
         },
         "mode": "markers",
         "type": "scatter",
         "x": [
          0.41599999999999937
         ],
         "y": [
          -0.7482459488697553
         ]
        },
        {
         "hoverinfo": "text",
         "marker": {
          "color": [
           "#000000",
           "#000000",
           "#000000",
           "#000000"
          ],
          "size": 0.5
         },
         "mode": "markers",
         "type": "scatter",
         "x": [
          0.4359999999999994
         ],
         "y": [
          -0.7880831174438396
         ]
        },
        {
         "hoverinfo": "text",
         "marker": {
          "color": [
           "#FF0000",
           "#FF0000",
           "#FF0000",
           "#FF0000",
           "#FF0000",
           "#FF0000"
          ],
          "line": {
           "color": [
            "rgb(342,342,342)",
            "rgb(342,342,342)",
            "rgb(342,342,342)",
            "rgb(342,342,342)",
            "rgb(342,342,342)",
            "rgb(342,342,342)"
           ],
           "width": 0.5
          },
          "size": [
           84.84883001855273,
           100.10015249006423,
           143.20842263601799,
           66.58466449019241,
           83.19830840091373,
           136.41524094560455
          ],
          "symbol": "circle"
         },
         "mode": "markers+text",
         "name": "",
         "text": [
          "IS",
          "HL",
          "OE",
          "P",
          "ET",
          "CC"
         ],
         "type": "scatter",
         "x": [
          1,
          0.5000000000000001,
          -0.4999999999999998,
          -1,
          -0.5000000000000004,
          0.4999999999999993
         ],
         "y": [
          0,
          0.8660254037844386,
          0.8660254037844388,
          1.2246467991473532e-16,
          -0.8660254037844384,
          -0.866025403784439
         ]
        }
       ],
       "layout": {
        "autosize": true,
        "font": {
         "size": 20
        },
        "height": 850,
        "hovermode": "closest",
        "margin": {
         "b": 85,
         "l": 20,
         "r": 20,
         "t": 100
        },
        "paper_bgcolor": "rgba(0,0,0,0)",
        "plot_bgcolor": "rgba(0,0,0,0)",
        "showlegend": false,
        "template": {
         "data": {
          "bar": [
           {
            "error_x": {
             "color": "#2a3f5f"
            },
            "error_y": {
             "color": "#2a3f5f"
            },
            "marker": {
             "line": {
              "color": "#E5ECF6",
              "width": 0.5
             }
            },
            "type": "bar"
           }
          ],
          "barpolar": [
           {
            "marker": {
             "line": {
              "color": "#E5ECF6",
              "width": 0.5
             }
            },
            "type": "barpolar"
           }
          ],
          "carpet": [
           {
            "aaxis": {
             "endlinecolor": "#2a3f5f",
             "gridcolor": "white",
             "linecolor": "white",
             "minorgridcolor": "white",
             "startlinecolor": "#2a3f5f"
            },
            "baxis": {
             "endlinecolor": "#2a3f5f",
             "gridcolor": "white",
             "linecolor": "white",
             "minorgridcolor": "white",
             "startlinecolor": "#2a3f5f"
            },
            "type": "carpet"
           }
          ],
          "choropleth": [
           {
            "colorbar": {
             "outlinewidth": 0,
             "ticks": ""
            },
            "type": "choropleth"
           }
          ],
          "contour": [
           {
            "colorbar": {
             "outlinewidth": 0,
             "ticks": ""
            },
            "colorscale": [
             [
              0,
              "#0d0887"
             ],
             [
              0.1111111111111111,
              "#46039f"
             ],
             [
              0.2222222222222222,
              "#7201a8"
             ],
             [
              0.3333333333333333,
              "#9c179e"
             ],
             [
              0.4444444444444444,
              "#bd3786"
             ],
             [
              0.5555555555555556,
              "#d8576b"
             ],
             [
              0.6666666666666666,
              "#ed7953"
             ],
             [
              0.7777777777777778,
              "#fb9f3a"
             ],
             [
              0.8888888888888888,
              "#fdca26"
             ],
             [
              1,
              "#f0f921"
             ]
            ],
            "type": "contour"
           }
          ],
          "contourcarpet": [
           {
            "colorbar": {
             "outlinewidth": 0,
             "ticks": ""
            },
            "type": "contourcarpet"
           }
          ],
          "heatmap": [
           {
            "colorbar": {
             "outlinewidth": 0,
             "ticks": ""
            },
            "colorscale": [
             [
              0,
              "#0d0887"
             ],
             [
              0.1111111111111111,
              "#46039f"
             ],
             [
              0.2222222222222222,
              "#7201a8"
             ],
             [
              0.3333333333333333,
              "#9c179e"
             ],
             [
              0.4444444444444444,
              "#bd3786"
             ],
             [
              0.5555555555555556,
              "#d8576b"
             ],
             [
              0.6666666666666666,
              "#ed7953"
             ],
             [
              0.7777777777777778,
              "#fb9f3a"
             ],
             [
              0.8888888888888888,
              "#fdca26"
             ],
             [
              1,
              "#f0f921"
             ]
            ],
            "type": "heatmap"
           }
          ],
          "heatmapgl": [
           {
            "colorbar": {
             "outlinewidth": 0,
             "ticks": ""
            },
            "colorscale": [
             [
              0,
              "#0d0887"
             ],
             [
              0.1111111111111111,
              "#46039f"
             ],
             [
              0.2222222222222222,
              "#7201a8"
             ],
             [
              0.3333333333333333,
              "#9c179e"
             ],
             [
              0.4444444444444444,
              "#bd3786"
             ],
             [
              0.5555555555555556,
              "#d8576b"
             ],
             [
              0.6666666666666666,
              "#ed7953"
             ],
             [
              0.7777777777777778,
              "#fb9f3a"
             ],
             [
              0.8888888888888888,
              "#fdca26"
             ],
             [
              1,
              "#f0f921"
             ]
            ],
            "type": "heatmapgl"
           }
          ],
          "histogram": [
           {
            "marker": {
             "colorbar": {
              "outlinewidth": 0,
              "ticks": ""
             }
            },
            "type": "histogram"
           }
          ],
          "histogram2d": [
           {
            "colorbar": {
             "outlinewidth": 0,
             "ticks": ""
            },
            "colorscale": [
             [
              0,
              "#0d0887"
             ],
             [
              0.1111111111111111,
              "#46039f"
             ],
             [
              0.2222222222222222,
              "#7201a8"
             ],
             [
              0.3333333333333333,
              "#9c179e"
             ],
             [
              0.4444444444444444,
              "#bd3786"
             ],
             [
              0.5555555555555556,
              "#d8576b"
             ],
             [
              0.6666666666666666,
              "#ed7953"
             ],
             [
              0.7777777777777778,
              "#fb9f3a"
             ],
             [
              0.8888888888888888,
              "#fdca26"
             ],
             [
              1,
              "#f0f921"
             ]
            ],
            "type": "histogram2d"
           }
          ],
          "histogram2dcontour": [
           {
            "colorbar": {
             "outlinewidth": 0,
             "ticks": ""
            },
            "colorscale": [
             [
              0,
              "#0d0887"
             ],
             [
              0.1111111111111111,
              "#46039f"
             ],
             [
              0.2222222222222222,
              "#7201a8"
             ],
             [
              0.3333333333333333,
              "#9c179e"
             ],
             [
              0.4444444444444444,
              "#bd3786"
             ],
             [
              0.5555555555555556,
              "#d8576b"
             ],
             [
              0.6666666666666666,
              "#ed7953"
             ],
             [
              0.7777777777777778,
              "#fb9f3a"
             ],
             [
              0.8888888888888888,
              "#fdca26"
             ],
             [
              1,
              "#f0f921"
             ]
            ],
            "type": "histogram2dcontour"
           }
          ],
          "mesh3d": [
           {
            "colorbar": {
             "outlinewidth": 0,
             "ticks": ""
            },
            "type": "mesh3d"
           }
          ],
          "parcoords": [
           {
            "line": {
             "colorbar": {
              "outlinewidth": 0,
              "ticks": ""
             }
            },
            "type": "parcoords"
           }
          ],
          "pie": [
           {
            "automargin": true,
            "type": "pie"
           }
          ],
          "scatter": [
           {
            "marker": {
             "colorbar": {
              "outlinewidth": 0,
              "ticks": ""
             }
            },
            "type": "scatter"
           }
          ],
          "scatter3d": [
           {
            "line": {
             "colorbar": {
              "outlinewidth": 0,
              "ticks": ""
             }
            },
            "marker": {
             "colorbar": {
              "outlinewidth": 0,
              "ticks": ""
             }
            },
            "type": "scatter3d"
           }
          ],
          "scattercarpet": [
           {
            "marker": {
             "colorbar": {
              "outlinewidth": 0,
              "ticks": ""
             }
            },
            "type": "scattercarpet"
           }
          ],
          "scattergeo": [
           {
            "marker": {
             "colorbar": {
              "outlinewidth": 0,
              "ticks": ""
             }
            },
            "type": "scattergeo"
           }
          ],
          "scattergl": [
           {
            "marker": {
             "colorbar": {
              "outlinewidth": 0,
              "ticks": ""
             }
            },
            "type": "scattergl"
           }
          ],
          "scattermapbox": [
           {
            "marker": {
             "colorbar": {
              "outlinewidth": 0,
              "ticks": ""
             }
            },
            "type": "scattermapbox"
           }
          ],
          "scatterpolar": [
           {
            "marker": {
             "colorbar": {
              "outlinewidth": 0,
              "ticks": ""
             }
            },
            "type": "scatterpolar"
           }
          ],
          "scatterpolargl": [
           {
            "marker": {
             "colorbar": {
              "outlinewidth": 0,
              "ticks": ""
             }
            },
            "type": "scatterpolargl"
           }
          ],
          "scatterternary": [
           {
            "marker": {
             "colorbar": {
              "outlinewidth": 0,
              "ticks": ""
             }
            },
            "type": "scatterternary"
           }
          ],
          "surface": [
           {
            "colorbar": {
             "outlinewidth": 0,
             "ticks": ""
            },
            "colorscale": [
             [
              0,
              "#0d0887"
             ],
             [
              0.1111111111111111,
              "#46039f"
             ],
             [
              0.2222222222222222,
              "#7201a8"
             ],
             [
              0.3333333333333333,
              "#9c179e"
             ],
             [
              0.4444444444444444,
              "#bd3786"
             ],
             [
              0.5555555555555556,
              "#d8576b"
             ],
             [
              0.6666666666666666,
              "#ed7953"
             ],
             [
              0.7777777777777778,
              "#fb9f3a"
             ],
             [
              0.8888888888888888,
              "#fdca26"
             ],
             [
              1,
              "#f0f921"
             ]
            ],
            "type": "surface"
           }
          ],
          "table": [
           {
            "cells": {
             "fill": {
              "color": "#EBF0F8"
             },
             "line": {
              "color": "white"
             }
            },
            "header": {
             "fill": {
              "color": "#C8D4E3"
             },
             "line": {
              "color": "white"
             }
            },
            "type": "table"
           }
          ]
         },
         "layout": {
          "annotationdefaults": {
           "arrowcolor": "#2a3f5f",
           "arrowhead": 0,
           "arrowwidth": 1
          },
          "coloraxis": {
           "colorbar": {
            "outlinewidth": 0,
            "ticks": ""
           }
          },
          "colorscale": {
           "diverging": [
            [
             0,
             "#8e0152"
            ],
            [
             0.1,
             "#c51b7d"
            ],
            [
             0.2,
             "#de77ae"
            ],
            [
             0.3,
             "#f1b6da"
            ],
            [
             0.4,
             "#fde0ef"
            ],
            [
             0.5,
             "#f7f7f7"
            ],
            [
             0.6,
             "#e6f5d0"
            ],
            [
             0.7,
             "#b8e186"
            ],
            [
             0.8,
             "#7fbc41"
            ],
            [
             0.9,
             "#4d9221"
            ],
            [
             1,
             "#276419"
            ]
           ],
           "sequential": [
            [
             0,
             "#0d0887"
            ],
            [
             0.1111111111111111,
             "#46039f"
            ],
            [
             0.2222222222222222,
             "#7201a8"
            ],
            [
             0.3333333333333333,
             "#9c179e"
            ],
            [
             0.4444444444444444,
             "#bd3786"
            ],
            [
             0.5555555555555556,
             "#d8576b"
            ],
            [
             0.6666666666666666,
             "#ed7953"
            ],
            [
             0.7777777777777778,
             "#fb9f3a"
            ],
            [
             0.8888888888888888,
             "#fdca26"
            ],
            [
             1,
             "#f0f921"
            ]
           ],
           "sequentialminus": [
            [
             0,
             "#0d0887"
            ],
            [
             0.1111111111111111,
             "#46039f"
            ],
            [
             0.2222222222222222,
             "#7201a8"
            ],
            [
             0.3333333333333333,
             "#9c179e"
            ],
            [
             0.4444444444444444,
             "#bd3786"
            ],
            [
             0.5555555555555556,
             "#d8576b"
            ],
            [
             0.6666666666666666,
             "#ed7953"
            ],
            [
             0.7777777777777778,
             "#fb9f3a"
            ],
            [
             0.8888888888888888,
             "#fdca26"
            ],
            [
             1,
             "#f0f921"
            ]
           ]
          },
          "colorway": [
           "#636efa",
           "#EF553B",
           "#00cc96",
           "#ab63fa",
           "#FFA15A",
           "#19d3f3",
           "#FF6692",
           "#B6E880",
           "#FF97FF",
           "#FECB52"
          ],
          "font": {
           "color": "#2a3f5f"
          },
          "geo": {
           "bgcolor": "white",
           "lakecolor": "white",
           "landcolor": "#E5ECF6",
           "showlakes": true,
           "showland": true,
           "subunitcolor": "white"
          },
          "hoverlabel": {
           "align": "left"
          },
          "hovermode": "closest",
          "mapbox": {
           "style": "light"
          },
          "paper_bgcolor": "white",
          "plot_bgcolor": "#E5ECF6",
          "polar": {
           "angularaxis": {
            "gridcolor": "white",
            "linecolor": "white",
            "ticks": ""
           },
           "bgcolor": "#E5ECF6",
           "radialaxis": {
            "gridcolor": "white",
            "linecolor": "white",
            "ticks": ""
           }
          },
          "scene": {
           "xaxis": {
            "backgroundcolor": "#E5ECF6",
            "gridcolor": "white",
            "gridwidth": 2,
            "linecolor": "white",
            "showbackground": true,
            "ticks": "",
            "zerolinecolor": "white"
           },
           "yaxis": {
            "backgroundcolor": "#E5ECF6",
            "gridcolor": "white",
            "gridwidth": 2,
            "linecolor": "white",
            "showbackground": true,
            "ticks": "",
            "zerolinecolor": "white"
           },
           "zaxis": {
            "backgroundcolor": "#E5ECF6",
            "gridcolor": "white",
            "gridwidth": 2,
            "linecolor": "white",
            "showbackground": true,
            "ticks": "",
            "zerolinecolor": "white"
           }
          },
          "shapedefaults": {
           "line": {
            "color": "#2a3f5f"
           }
          },
          "ternary": {
           "aaxis": {
            "gridcolor": "white",
            "linecolor": "white",
            "ticks": ""
           },
           "baxis": {
            "gridcolor": "white",
            "linecolor": "white",
            "ticks": ""
           },
           "bgcolor": "#E5ECF6",
           "caxis": {
            "gridcolor": "white",
            "linecolor": "white",
            "ticks": ""
           }
          },
          "title": {
           "x": 0.05
          },
          "xaxis": {
           "automargin": true,
           "gridcolor": "white",
           "linecolor": "white",
           "ticks": "",
           "title": {
            "standoff": 15
           },
           "zerolinecolor": "white",
           "zerolinewidth": 2
          },
          "yaxis": {
           "automargin": true,
           "gridcolor": "white",
           "linecolor": "white",
           "ticks": "",
           "title": {
            "standoff": 15
           },
           "zerolinecolor": "white",
           "zerolinewidth": 2
          }
         }
        },
        "title": {
         "text": "Threat Overlap"
        },
        "width": 800,
        "xaxis": {
         "showgrid": false,
         "showline": false,
         "showticklabels": false,
         "title": {
          "text": ""
         },
         "zeroline": false
        },
        "yaxis": {
         "showgrid": false,
         "showline": false,
         "showticklabels": false,
         "title": {
          "text": ""
         },
         "zeroline": false
        }
       }
      },
      "text/html": [
       "<div>\n",
       "        \n",
       "        \n",
       "            <div id=\"76ba31d0-1643-4151-8cd3-972aa7b41f3c\" class=\"plotly-graph-div\" style=\"height:850px; width:800px;\"></div>\n",
       "            <script type=\"text/javascript\">\n",
       "                require([\"plotly\"], function(Plotly) {\n",
       "                    window.PLOTLYENV=window.PLOTLYENV || {};\n",
       "                    \n",
       "                if (document.getElementById(\"76ba31d0-1643-4151-8cd3-972aa7b41f3c\")) {\n",
       "                    Plotly.newPlot(\n",
       "                        '76ba31d0-1643-4151-8cd3-972aa7b41f3c',\n",
       "                        [{\"hoverinfo\": \"text\", \"line\": {\"color\": \"#000000\", \"shape\": \"spline\", \"width\": 1.52}, \"mode\": \"lines\", \"text\": \"152\", \"type\": \"scatter\", \"x\": [0.5000000000000001, 0.2968750000000001, 1.1102230246251565e-16, -0.29687499999999983, -0.4999999999999998], \"y\": [0.8660254037844386, 0.7036456405748563, 0.649519052838329, 0.7036456405748566, 0.8660254037844388]}, {\"hoverinfo\": \"text\", \"line\": {\"color\": \"#000000\", \"shape\": \"spline\", \"width\": 1.1}, \"mode\": \"lines\", \"text\": \"110\", \"type\": \"scatter\", \"x\": [0.5000000000000001, 0.27008928571428575, -1.1102230246251565e-16, -0.2700892857142859, -0.5000000000000004], \"y\": [0.8660254037844386, 0.4678083654371298, 5.551115123125783e-17, -0.46780836543712967, -0.8660254037844384]}, {\"hoverinfo\": \"text\", \"line\": {\"color\": \"#000000\", \"shape\": \"spline\", \"width\": 10.76}, \"mode\": \"lines\", \"text\": \"1076\", \"type\": \"scatter\", \"x\": [0.5000000000000001, 0.375, 0.3333333333333331, 0.37499999999999944, 0.4999999999999993], \"y\": [0.8660254037844386, 0.48713928962874664, -1.6653345369377348e-16, -0.487139289628747, -0.866025403784439]}, {\"hoverinfo\": \"text\", \"line\": {\"color\": \"#000000\", \"shape\": \"spline\", \"width\": 0.42}, \"mode\": \"lines\", \"text\": \"42\", \"type\": \"scatter\", \"x\": [-0.4999999999999998, -0.3749999999999999, -0.33333333333333337, -0.3750000000000003, -0.5000000000000004], \"y\": [0.8660254037844388, 0.48713928962874686, 1.3877787807814457e-16, -0.4871392896287466, -0.8660254037844384]}, {\"hoverinfo\": \"text\", \"line\": {\"color\": \"#000000\", \"shape\": \"spline\", \"width\": 3.17}, \"mode\": \"lines\", \"text\": \"317\", \"type\": \"scatter\", \"x\": [-0.4999999999999998, -0.2700892857142856, -1.3877787807814457e-16, 0.27008928571428525, 0.4999999999999993], \"y\": [0.8660254037844388, 0.46780836543712984, -5.551115123125783e-17, -0.46780836543713, -0.866025403784439]}, {\"hoverinfo\": \"text\", \"line\": {\"color\": \"#000000\", \"shape\": \"spline\", \"width\": 1.07}, \"mode\": \"lines\", \"text\": \"107\", \"type\": \"scatter\", \"x\": [-1.0, -0.7578125, -0.5625000000000002, -0.46093750000000033, -0.5000000000000004], \"y\": [1.2246467991473532e-16, -0.09472152853892286, -0.3247595264191644, -0.6089241120359333, -0.8660254037844384]}, {\"hoverinfo\": \"text\", \"line\": {\"color\": \"#000000\", \"shape\": \"spline\", \"width\": 2.12}, \"mode\": \"lines\", \"text\": \"212\", \"type\": \"scatter\", \"x\": [-1.0, -0.609375, -0.16666666666666696, 0.23437499999999953, 0.4999999999999993], \"y\": [1.2246467991473532e-16, -0.08118988160479107, -0.288675134594813, -0.5683291712335381, -0.866025403784439]}, {\"hoverinfo\": \"text\", \"line\": {\"color\": \"#000000\", \"shape\": \"spline\", \"width\": 7.9}, \"mode\": \"lines\", \"text\": \"790\", \"type\": \"scatter\", \"x\": [-0.5000000000000004, -0.29687500000000044, -4.440892098500626e-16, 0.29687499999999944, 0.4999999999999993], \"y\": [-0.8660254037844384, -0.7036456405748563, -0.6495190528383291, -0.7036456405748568, -0.866025403784439]}, {\"hoverinfo\": \"text\", \"marker\": {\"color\": [\"#000000\", \"#000000\", \"#000000\", \"#000000\"], \"size\": 0.5}, \"mode\": \"markers\", \"type\": \"scatter\", \"x\": [-0.43599999999999983], \"y\": [0.7880831174438393]}, {\"hoverinfo\": \"text\", \"marker\": {\"color\": [\"#000000\", \"#000000\", \"#000000\", \"#000000\"], \"size\": 0.5}, \"mode\": \"markers\", \"type\": \"scatter\", \"x\": [-0.41542857142857187], \"y\": [-0.719543392630042]}, {\"hoverinfo\": \"text\", \"marker\": {\"color\": [\"#000000\", \"#000000\", \"#000000\", \"#000000\"], \"size\": 0.5}, \"mode\": \"markers\", \"type\": \"scatter\", \"x\": [0.4399999999999994], \"y\": [-0.7343895424092044]}, {\"hoverinfo\": \"text\", \"marker\": {\"color\": [\"#000000\", \"#000000\", \"#000000\", \"#000000\"], \"size\": 0.5}, \"mode\": \"markers\", \"type\": \"scatter\", \"x\": [-0.4400000000000004], \"y\": [-0.7343895424092038]}, {\"hoverinfo\": \"text\", \"marker\": {\"color\": [\"#000000\", \"#000000\", \"#000000\", \"#000000\"], \"size\": 0.5}, \"mode\": \"markers\", \"type\": \"scatter\", \"x\": [0.4154285714285708], \"y\": [-0.7195433926300426]}, {\"hoverinfo\": \"text\", \"marker\": {\"color\": [\"#000000\", \"#000000\", \"#000000\", \"#000000\"], \"size\": 0.5}, \"mode\": \"markers\", \"type\": \"scatter\", \"x\": [-0.4645000000000004], \"y\": [-0.7716286347719348]}, {\"hoverinfo\": \"text\", \"marker\": {\"color\": [\"#000000\", \"#000000\", \"#000000\", \"#000000\"], \"size\": 0.5}, \"mode\": \"markers\", \"type\": \"scatter\", \"x\": [0.41599999999999937], \"y\": [-0.7482459488697553]}, {\"hoverinfo\": \"text\", \"marker\": {\"color\": [\"#000000\", \"#000000\", \"#000000\", \"#000000\"], \"size\": 0.5}, \"mode\": \"markers\", \"type\": \"scatter\", \"x\": [0.4359999999999994], \"y\": [-0.7880831174438396]}, {\"hoverinfo\": \"text\", \"marker\": {\"color\": [\"#FF0000\", \"#FF0000\", \"#FF0000\", \"#FF0000\", \"#FF0000\", \"#FF0000\"], \"line\": {\"color\": [\"rgb(342,342,342)\", \"rgb(342,342,342)\", \"rgb(342,342,342)\", \"rgb(342,342,342)\", \"rgb(342,342,342)\", \"rgb(342,342,342)\"], \"width\": 0.5}, \"size\": [84.84883001855273, 100.10015249006423, 143.20842263601799, 66.58466449019241, 83.19830840091373, 136.41524094560455], \"symbol\": \"circle\"}, \"mode\": \"markers+text\", \"name\": \"\", \"text\": [\"IS\", \"HL\", \"OE\", \"P\", \"ET\", \"CC\"], \"type\": \"scatter\", \"x\": [1.0, 0.5000000000000001, -0.4999999999999998, -1.0, -0.5000000000000004, 0.4999999999999993], \"y\": [0.0, 0.8660254037844386, 0.8660254037844388, 1.2246467991473532e-16, -0.8660254037844384, -0.866025403784439]}],\n",
       "                        {\"autosize\": true, \"font\": {\"size\": 20}, \"height\": 850, \"hovermode\": \"closest\", \"margin\": {\"b\": 85, \"l\": 20, \"r\": 20, \"t\": 100}, \"paper_bgcolor\": \"rgba(0,0,0,0)\", \"plot_bgcolor\": \"rgba(0,0,0,0)\", \"showlegend\": false, \"template\": {\"data\": {\"bar\": [{\"error_x\": {\"color\": \"#2a3f5f\"}, \"error_y\": {\"color\": \"#2a3f5f\"}, \"marker\": {\"line\": {\"color\": \"#E5ECF6\", \"width\": 0.5}}, \"type\": \"bar\"}], \"barpolar\": [{\"marker\": {\"line\": {\"color\": \"#E5ECF6\", \"width\": 0.5}}, \"type\": \"barpolar\"}], \"carpet\": [{\"aaxis\": {\"endlinecolor\": \"#2a3f5f\", \"gridcolor\": \"white\", \"linecolor\": \"white\", \"minorgridcolor\": \"white\", \"startlinecolor\": \"#2a3f5f\"}, \"baxis\": {\"endlinecolor\": \"#2a3f5f\", \"gridcolor\": \"white\", \"linecolor\": \"white\", \"minorgridcolor\": \"white\", \"startlinecolor\": \"#2a3f5f\"}, \"type\": \"carpet\"}], \"choropleth\": [{\"colorbar\": {\"outlinewidth\": 0, \"ticks\": \"\"}, \"type\": \"choropleth\"}], \"contour\": [{\"colorbar\": {\"outlinewidth\": 0, \"ticks\": \"\"}, \"colorscale\": [[0.0, \"#0d0887\"], [0.1111111111111111, \"#46039f\"], [0.2222222222222222, \"#7201a8\"], [0.3333333333333333, \"#9c179e\"], [0.4444444444444444, \"#bd3786\"], [0.5555555555555556, \"#d8576b\"], [0.6666666666666666, \"#ed7953\"], [0.7777777777777778, \"#fb9f3a\"], [0.8888888888888888, \"#fdca26\"], [1.0, \"#f0f921\"]], \"type\": \"contour\"}], \"contourcarpet\": [{\"colorbar\": {\"outlinewidth\": 0, \"ticks\": \"\"}, \"type\": \"contourcarpet\"}], \"heatmap\": [{\"colorbar\": {\"outlinewidth\": 0, \"ticks\": \"\"}, \"colorscale\": [[0.0, \"#0d0887\"], [0.1111111111111111, \"#46039f\"], [0.2222222222222222, \"#7201a8\"], [0.3333333333333333, \"#9c179e\"], [0.4444444444444444, \"#bd3786\"], [0.5555555555555556, \"#d8576b\"], [0.6666666666666666, \"#ed7953\"], [0.7777777777777778, \"#fb9f3a\"], [0.8888888888888888, \"#fdca26\"], [1.0, \"#f0f921\"]], \"type\": \"heatmap\"}], \"heatmapgl\": [{\"colorbar\": {\"outlinewidth\": 0, \"ticks\": \"\"}, \"colorscale\": [[0.0, \"#0d0887\"], [0.1111111111111111, \"#46039f\"], [0.2222222222222222, \"#7201a8\"], [0.3333333333333333, \"#9c179e\"], [0.4444444444444444, \"#bd3786\"], [0.5555555555555556, \"#d8576b\"], [0.6666666666666666, \"#ed7953\"], [0.7777777777777778, \"#fb9f3a\"], [0.8888888888888888, \"#fdca26\"], [1.0, \"#f0f921\"]], \"type\": \"heatmapgl\"}], \"histogram\": [{\"marker\": {\"colorbar\": {\"outlinewidth\": 0, \"ticks\": \"\"}}, \"type\": \"histogram\"}], \"histogram2d\": [{\"colorbar\": {\"outlinewidth\": 0, \"ticks\": \"\"}, \"colorscale\": [[0.0, \"#0d0887\"], [0.1111111111111111, \"#46039f\"], [0.2222222222222222, \"#7201a8\"], [0.3333333333333333, \"#9c179e\"], [0.4444444444444444, \"#bd3786\"], [0.5555555555555556, \"#d8576b\"], [0.6666666666666666, \"#ed7953\"], [0.7777777777777778, \"#fb9f3a\"], [0.8888888888888888, \"#fdca26\"], [1.0, \"#f0f921\"]], \"type\": \"histogram2d\"}], \"histogram2dcontour\": [{\"colorbar\": {\"outlinewidth\": 0, \"ticks\": \"\"}, \"colorscale\": [[0.0, \"#0d0887\"], [0.1111111111111111, \"#46039f\"], [0.2222222222222222, \"#7201a8\"], [0.3333333333333333, \"#9c179e\"], [0.4444444444444444, \"#bd3786\"], [0.5555555555555556, \"#d8576b\"], [0.6666666666666666, \"#ed7953\"], [0.7777777777777778, \"#fb9f3a\"], [0.8888888888888888, \"#fdca26\"], [1.0, \"#f0f921\"]], \"type\": \"histogram2dcontour\"}], \"mesh3d\": [{\"colorbar\": {\"outlinewidth\": 0, \"ticks\": \"\"}, \"type\": \"mesh3d\"}], \"parcoords\": [{\"line\": {\"colorbar\": {\"outlinewidth\": 0, \"ticks\": \"\"}}, \"type\": \"parcoords\"}], \"pie\": [{\"automargin\": true, \"type\": \"pie\"}], \"scatter\": [{\"marker\": {\"colorbar\": {\"outlinewidth\": 0, \"ticks\": \"\"}}, \"type\": \"scatter\"}], \"scatter3d\": [{\"line\": {\"colorbar\": {\"outlinewidth\": 0, \"ticks\": \"\"}}, \"marker\": {\"colorbar\": {\"outlinewidth\": 0, \"ticks\": \"\"}}, \"type\": \"scatter3d\"}], \"scattercarpet\": [{\"marker\": {\"colorbar\": {\"outlinewidth\": 0, \"ticks\": \"\"}}, \"type\": \"scattercarpet\"}], \"scattergeo\": [{\"marker\": {\"colorbar\": {\"outlinewidth\": 0, \"ticks\": \"\"}}, \"type\": \"scattergeo\"}], \"scattergl\": [{\"marker\": {\"colorbar\": {\"outlinewidth\": 0, \"ticks\": \"\"}}, \"type\": \"scattergl\"}], \"scattermapbox\": [{\"marker\": {\"colorbar\": {\"outlinewidth\": 0, \"ticks\": \"\"}}, \"type\": \"scattermapbox\"}], \"scatterpolar\": [{\"marker\": {\"colorbar\": {\"outlinewidth\": 0, \"ticks\": \"\"}}, \"type\": \"scatterpolar\"}], \"scatterpolargl\": [{\"marker\": {\"colorbar\": {\"outlinewidth\": 0, \"ticks\": \"\"}}, \"type\": \"scatterpolargl\"}], \"scatterternary\": [{\"marker\": {\"colorbar\": {\"outlinewidth\": 0, \"ticks\": \"\"}}, \"type\": \"scatterternary\"}], \"surface\": [{\"colorbar\": {\"outlinewidth\": 0, \"ticks\": \"\"}, \"colorscale\": [[0.0, \"#0d0887\"], [0.1111111111111111, \"#46039f\"], [0.2222222222222222, \"#7201a8\"], [0.3333333333333333, \"#9c179e\"], [0.4444444444444444, \"#bd3786\"], [0.5555555555555556, \"#d8576b\"], [0.6666666666666666, \"#ed7953\"], [0.7777777777777778, \"#fb9f3a\"], [0.8888888888888888, \"#fdca26\"], [1.0, \"#f0f921\"]], \"type\": \"surface\"}], \"table\": [{\"cells\": {\"fill\": {\"color\": \"#EBF0F8\"}, \"line\": {\"color\": \"white\"}}, \"header\": {\"fill\": {\"color\": \"#C8D4E3\"}, \"line\": {\"color\": \"white\"}}, \"type\": \"table\"}]}, \"layout\": {\"annotationdefaults\": {\"arrowcolor\": \"#2a3f5f\", \"arrowhead\": 0, \"arrowwidth\": 1}, \"coloraxis\": {\"colorbar\": {\"outlinewidth\": 0, \"ticks\": \"\"}}, \"colorscale\": {\"diverging\": [[0, \"#8e0152\"], [0.1, \"#c51b7d\"], [0.2, \"#de77ae\"], [0.3, \"#f1b6da\"], [0.4, \"#fde0ef\"], [0.5, \"#f7f7f7\"], [0.6, \"#e6f5d0\"], [0.7, \"#b8e186\"], [0.8, \"#7fbc41\"], [0.9, \"#4d9221\"], [1, \"#276419\"]], \"sequential\": [[0.0, \"#0d0887\"], [0.1111111111111111, \"#46039f\"], [0.2222222222222222, \"#7201a8\"], [0.3333333333333333, \"#9c179e\"], [0.4444444444444444, \"#bd3786\"], [0.5555555555555556, \"#d8576b\"], [0.6666666666666666, \"#ed7953\"], [0.7777777777777778, \"#fb9f3a\"], [0.8888888888888888, \"#fdca26\"], [1.0, \"#f0f921\"]], \"sequentialminus\": [[0.0, \"#0d0887\"], [0.1111111111111111, \"#46039f\"], [0.2222222222222222, \"#7201a8\"], [0.3333333333333333, \"#9c179e\"], [0.4444444444444444, \"#bd3786\"], [0.5555555555555556, \"#d8576b\"], [0.6666666666666666, \"#ed7953\"], [0.7777777777777778, \"#fb9f3a\"], [0.8888888888888888, \"#fdca26\"], [1.0, \"#f0f921\"]]}, \"colorway\": [\"#636efa\", \"#EF553B\", \"#00cc96\", \"#ab63fa\", \"#FFA15A\", \"#19d3f3\", \"#FF6692\", \"#B6E880\", \"#FF97FF\", \"#FECB52\"], \"font\": {\"color\": \"#2a3f5f\"}, \"geo\": {\"bgcolor\": \"white\", \"lakecolor\": \"white\", \"landcolor\": \"#E5ECF6\", \"showlakes\": true, \"showland\": true, \"subunitcolor\": \"white\"}, \"hoverlabel\": {\"align\": \"left\"}, \"hovermode\": \"closest\", \"mapbox\": {\"style\": \"light\"}, \"paper_bgcolor\": \"white\", \"plot_bgcolor\": \"#E5ECF6\", \"polar\": {\"angularaxis\": {\"gridcolor\": \"white\", \"linecolor\": \"white\", \"ticks\": \"\"}, \"bgcolor\": \"#E5ECF6\", \"radialaxis\": {\"gridcolor\": \"white\", \"linecolor\": \"white\", \"ticks\": \"\"}}, \"scene\": {\"xaxis\": {\"backgroundcolor\": \"#E5ECF6\", \"gridcolor\": \"white\", \"gridwidth\": 2, \"linecolor\": \"white\", \"showbackground\": true, \"ticks\": \"\", \"zerolinecolor\": \"white\"}, \"yaxis\": {\"backgroundcolor\": \"#E5ECF6\", \"gridcolor\": \"white\", \"gridwidth\": 2, \"linecolor\": \"white\", \"showbackground\": true, \"ticks\": \"\", \"zerolinecolor\": \"white\"}, \"zaxis\": {\"backgroundcolor\": \"#E5ECF6\", \"gridcolor\": \"white\", \"gridwidth\": 2, \"linecolor\": \"white\", \"showbackground\": true, \"ticks\": \"\", \"zerolinecolor\": \"white\"}}, \"shapedefaults\": {\"line\": {\"color\": \"#2a3f5f\"}}, \"ternary\": {\"aaxis\": {\"gridcolor\": \"white\", \"linecolor\": \"white\", \"ticks\": \"\"}, \"baxis\": {\"gridcolor\": \"white\", \"linecolor\": \"white\", \"ticks\": \"\"}, \"bgcolor\": \"#E5ECF6\", \"caxis\": {\"gridcolor\": \"white\", \"linecolor\": \"white\", \"ticks\": \"\"}}, \"title\": {\"x\": 0.05}, \"xaxis\": {\"automargin\": true, \"gridcolor\": \"white\", \"linecolor\": \"white\", \"ticks\": \"\", \"title\": {\"standoff\": 15}, \"zerolinecolor\": \"white\", \"zerolinewidth\": 2}, \"yaxis\": {\"automargin\": true, \"gridcolor\": \"white\", \"linecolor\": \"white\", \"ticks\": \"\", \"title\": {\"standoff\": 15}, \"zerolinecolor\": \"white\", \"zerolinewidth\": 2}}}, \"title\": {\"text\": \"Threat Overlap\"}, \"width\": 800, \"xaxis\": {\"showgrid\": false, \"showline\": false, \"showticklabels\": false, \"title\": {\"text\": \"\"}, \"zeroline\": false}, \"yaxis\": {\"showgrid\": false, \"showline\": false, \"showticklabels\": false, \"title\": {\"text\": \"\"}, \"zeroline\": false}},\n",
       "                        {\"responsive\": true}\n",
       "                    ).then(function(){\n",
       "                            \n",
       "var gd = document.getElementById('76ba31d0-1643-4151-8cd3-972aa7b41f3c');\n",
       "var x = new MutationObserver(function (mutations, observer) {{\n",
       "        var display = window.getComputedStyle(gd).display;\n",
       "        if (!display || display === 'none') {{\n",
       "            console.log([gd, 'removed!']);\n",
       "            Plotly.purge(gd);\n",
       "            observer.disconnect();\n",
       "        }}\n",
       "}});\n",
       "\n",
       "// Listen for the removal of the full notebook cells\n",
       "var notebookContainer = gd.closest('#notebook-container');\n",
       "if (notebookContainer) {{\n",
       "    x.observe(notebookContainer, {childList: true});\n",
       "}}\n",
       "\n",
       "// Listen for the clearing of the current output cell\n",
       "var outputEl = gd.closest('.output');\n",
       "if (outputEl) {{\n",
       "    x.observe(outputEl, {childList: true});\n",
       "}}\n",
       "\n",
       "                        })\n",
       "                };\n",
       "                });\n",
       "            </script>\n",
       "        </div>"
      ]
     },
     "metadata": {},
     "output_type": "display_data"
    }
   ],
   "source": [
    "fig.show()"
   ]
  },
  {
   "cell_type": "code",
   "execution_count": null,
   "metadata": {},
   "outputs": [],
   "source": []
  }
 ],
 "metadata": {
  "kernelspec": {
   "display_name": "Python 3",
   "language": "python",
   "name": "python3"
  },
  "language_info": {
   "codemirror_mode": {
    "name": "ipython",
    "version": 3
   },
   "file_extension": ".py",
   "mimetype": "text/x-python",
   "name": "python",
   "nbconvert_exporter": "python",
   "pygments_lexer": "ipython3",
   "version": "3.6.10"
  }
 },
 "nbformat": 4,
 "nbformat_minor": 4
}
