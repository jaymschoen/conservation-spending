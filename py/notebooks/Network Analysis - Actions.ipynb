{
 "cells": [
  {
   "cell_type": "code",
   "execution_count": 1,
   "metadata": {},
   "outputs": [
    {
     "data": {
      "text/html": [
       "        <script type=\"text/javascript\">\n",
       "        window.PlotlyConfig = {MathJaxConfig: 'local'};\n",
       "        if (window.MathJax) {MathJax.Hub.Config({SVG: {font: \"STIX-Web\"}});}\n",
       "        if (typeof require !== 'undefined') {\n",
       "        require.undef(\"plotly\");\n",
       "        requirejs.config({\n",
       "            paths: {\n",
       "                'plotly': ['https://cdn.plot.ly/plotly-latest.min']\n",
       "            }\n",
       "        });\n",
       "        require(['plotly'], function(Plotly) {\n",
       "            window._Plotly = Plotly;\n",
       "        });\n",
       "        }\n",
       "        </script>\n",
       "        "
      ]
     },
     "metadata": {},
     "output_type": "display_data"
    }
   ],
   "source": [
    "import numpy as np\n",
    "import pandas as pd\n",
    "import igraph as ig\n",
    "import chart_studio.plotly as py\n",
    "import plotly.graph_objs as go\n",
    "from plotly.offline import download_plotlyjs, init_notebook_mode, plot, iplot\n",
    "from IPython.display import Image\n",
    "\n",
    "init_notebook_mode(connected=True)"
   ]
  },
  {
   "cell_type": "code",
   "execution_count": 2,
   "metadata": {},
   "outputs": [],
   "source": [
    "# Helper functions\n",
    "\n",
    "def dist(A, B):\n",
    "    return np.linalg.norm(np.array(A)-np.array(B))\n",
    "\n",
    "def get_idx_interv(d, D):\n",
    "    k=0\n",
    "    while(d>D[k]): \n",
    "        k+=1\n",
    "    return  k-1\n",
    "\n",
    "def deCasteljau(b,t): \n",
    "    N=len(b) \n",
    "    if(N<2):\n",
    "        raise InvalidInputError(\"The  control polygon must have at least two points\")\n",
    "    a=np.copy(b) #shallow copy of the list of control points \n",
    "    for r in range(1,N): \n",
    "        a[:N-r,:]=(1-t)*a[:N-r,:]+t*a[1:N-r+1,:]                             \n",
    "    return a[0,:]\n",
    "\n",
    "def BezierCv(b, nr=5):\n",
    "    t=np.linspace(0, 1, nr)\n",
    "    return np.array([deCasteljau(b, t[k]) for k in range(nr)])\n",
    "\n",
    "Dist=[0, dist([1,0], 2*[np.sqrt(2)/2]), np.sqrt(2), dist([1,0],  [-np.sqrt(2)/2, np.sqrt(2)/2]), 2.0]\n",
    "params=[1.2, 1.5, 1.8, 2.1]"
   ]
  },
  {
   "cell_type": "code",
   "execution_count": 3,
   "metadata": {},
   "outputs": [],
   "source": [
    "# Read the data file\n",
    "df = pd.read_csv('./Data/Action Overlap Bio.csv')\n",
    "categories = list(set(df['A'].tolist() + df['B'].tolist()))\n",
    "\n",
    "# Create the graph network\n",
    "g = ig.Graph.Full(len(categories))\n",
    "g.vs['name'] = categories\n",
    "g.es[\"weight\"] = 0.0\n",
    "\n",
    "for idx, row in df.iterrows():\n",
    "    if row['A'] == row['B']:\n",
    "        continue\n",
    "    # Scale the contribution by a factor of 50000\n",
    "    g[row['A'], row['B']] += row['n']/50000.0\n",
    "g.es.select(weight=0.0).delete()\n",
    "\n",
    "layt = g.layout('circular') #circular layout\n",
    "Weights = list(map(int, g.es[\"weight\"]))\n",
    "V=list(g.vs)\n",
    "labels=[v['name']  for v in V]\n",
    "E=[e.tuple for e in g.es]# list of edges\n",
    "\n",
    "node_color=['#FF0000' for v in g.vs] \n",
    "line_color=['rgb(342,342,342)' for v in g.vs]\n",
    "edge_colors=['#000000','#000000', '#000000', '#000000']\n",
    "\n",
    "Xn=[layt[k][0] for k in range(len(layt))]\n",
    "Yn=[layt[k][1] for k in range(len(layt))]\n",
    "\n",
    "lines=[]# the list of dicts defining   edge  Plotly attributes\n",
    "edge_info=[]# the list of points on edges where  the information is placed"
   ]
  },
  {
   "cell_type": "code",
   "execution_count": 4,
   "metadata": {},
   "outputs": [],
   "source": [
    "# Percentage contrbutions of every category\n",
    "marker_size_dict = {}\n",
    "marker_size_dict['EC'] = 0.149004\n",
    "marker_size_dict['AP'] = 0.197119\n",
    "marker_size_dict['RH'] = 0.284524\n",
    "marker_size_dict['CBC'] = 0.091422\n",
    "marker_size_dict['RST'] = 0.140321\n",
    "marker_size_dict['P'] = 0.113154\n",
    "marker_size_dict['CF'] = 0.024456\n",
    "\n",
    "# Marker sizes based on Percentage contributions\n",
    "action_marker_size = []\n",
    "for label in labels:\n",
    "    action_marker_size.append(marker_size_dict[label])\n",
    "for idx in range(len(action_marker_size)):\n",
    "    action_marker_size[idx] = np.log(action_marker_size[idx]*100)*40"
   ]
  },
  {
   "cell_type": "code",
   "execution_count": 5,
   "metadata": {},
   "outputs": [],
   "source": [
    "# Plot the Network Analysis\n",
    "for j, e in enumerate(E):\n",
    "    A=np.array(layt[e[0]])\n",
    "    B=np.array(layt[e[1]])\n",
    "    d=dist(A, B)\n",
    "    K=get_idx_interv(d, Dist)\n",
    "    b=[A, A/params[K], B/params[K], B]\n",
    "    color=edge_colors[K]\n",
    "    pts=BezierCv(b, nr=5)\n",
    "    text=V[e[0]]['name']+' to '+V[e[1]]['name']+' '+str(Weights[j])+' x100000'\n",
    "    mark=deCasteljau(b,0.9)\n",
    "    \n",
    "    edge_info.append(go.Scatter(x=[mark[0]],\n",
    "                             y=[mark[1]],\n",
    "                             mode='markers',\n",
    "                             marker=dict(size=0.5, color=edge_colors),\n",
    "                             text=text,\n",
    "                             hoverinfo='text'\n",
    "                             )\n",
    "                    )\n",
    "    \n",
    "    lines.append(go.Scatter(x=pts[:,0],\n",
    "                         y=pts[:,1],\n",
    "                         mode='lines',\n",
    "                         line=dict(color=color,\n",
    "                                  shape='spline',\n",
    "                                  width=Weights[j]/250#The  width is proportional to the edge weight\n",
    "                                 ),\n",
    "                        text=str(Weights[j]),\n",
    "                        hoverinfo='text'\n",
    "                       )\n",
    "                )\n",
    "\n",
    "trace2=go.Scatter(x=Xn,\n",
    "           y=Yn,\n",
    "           mode='markers+text',\n",
    "           name='',\n",
    "           marker=dict(symbol='circle',\n",
    "                         size=action_marker_size,\n",
    "                         color=node_color,\n",
    "                         line=dict(color=line_color, width=0.5)\n",
    "                         ),\n",
    "           text=labels,\n",
    "           hoverinfo='text',\n",
    "           )\n",
    "\n",
    "axis=dict(showline=False, # hide axis line, grid, ticklabels and  title\n",
    "          zeroline=False,\n",
    "          showgrid=False,\n",
    "          showticklabels=False,\n",
    "          title=''\n",
    "          )\n",
    "\n",
    "\n",
    "width=800\n",
    "height=850\n",
    "layout=go.Layout(title= 'Actions Overlap',\n",
    "              font= dict(size=20),\n",
    "              showlegend=False,\n",
    "              autosize=True,\n",
    "              width=width,\n",
    "              height=height,\n",
    "              xaxis=dict(axis),\n",
    "              yaxis=dict(axis),\n",
    "              margin=dict(l=20,\n",
    "                            r=20,\n",
    "                            b=85,\n",
    "                            t=100,\n",
    "                          ),\n",
    "              hovermode='closest',\n",
    "              paper_bgcolor='rgba(0,0,0,0)',\n",
    "              plot_bgcolor='rgba(0,0,0,0)'\n",
    "              )\n",
    "\n",
    "data=lines+edge_info+[trace2]\n",
    "fig=go.Figure(data=data, layout=layout)"
   ]
  },
  {
   "cell_type": "code",
   "execution_count": 6,
   "metadata": {},
   "outputs": [
    {
     "data": {
      "application/vnd.plotly.v1+json": {
       "config": {
        "plotlyServerURL": "https://plot.ly"
       },
       "data": [
        {
         "hoverinfo": "text",
         "line": {
          "color": "#000000",
          "shape": "spline",
          "width": 1.032
         },
         "mode": "lines",
         "text": "258",
         "type": "scatter",
         "x": [
          1,
          0.7713191970782991,
          0.608808675697025,
          0.5477662669319221,
          0.6234898018587336
         ],
         "y": [
          0,
          0.08551281839494075,
          0.29318680592551116,
          0.5497252611103334,
          0.7818314824680297
         ]
        },
        {
         "hoverinfo": "text",
         "line": {
          "color": "#000000",
          "shape": "spline",
          "width": 1.048
         },
         "mode": "lines",
         "text": "262",
         "type": "scatter",
         "x": [
          1,
          0.6353886624415954,
          0.2591596886812286,
          -0.052279362908831284,
          -0.22252093395631434
         ],
         "y": [
          0,
          0.09139949176704595,
          0.3249759707272745,
          0.6397964423693216,
          0.9749279121818236
         ]
        },
        {
         "hoverinfo": "text",
         "line": {
          "color": "#000000",
          "shape": "spline",
          "width": 4.58
         },
         "mode": "lines",
         "text": "1145",
         "type": "scatter",
         "x": [
          1,
          0.5483574818919876,
          0.030063022243908555,
          -0.4785051655017298,
          -0.900968867902419
         ],
         "y": [
          0,
          0.03583414809676262,
          0.13171470651783018,
          0.2702088464593722,
          0.43388373911755823
         ]
        },
        {
         "hoverinfo": "text",
         "line": {
          "color": "#000000",
          "shape": "spline",
          "width": 8.6
         },
         "mode": "lines",
         "text": "2150",
         "type": "scatter",
         "x": [
          1,
          0.5483574818919876,
          0.03006302224390847,
          -0.4785051655017298,
          -0.9009688679024191
         ],
         "y": [
          0,
          -0.0358341480967626,
          -0.1317147065178301,
          -0.2702088464593721,
          -0.433883739117558
         ]
        },
        {
         "hoverinfo": "text",
         "line": {
          "color": "#000000",
          "shape": "spline",
          "width": 3.144
         },
         "mode": "lines",
         "text": "786",
         "type": "scatter",
         "x": [
          1,
          0.6353886624415954,
          0.2591596886812285,
          -0.052279362908831443,
          -0.2225209339563146
         ],
         "y": [
          0,
          -0.09139949176704595,
          -0.32497597072727447,
          -0.6397964423693216,
          -0.9749279121818235
         ]
        },
        {
         "hoverinfo": "text",
         "line": {
          "color": "#000000",
          "shape": "spline",
          "width": 10.804
         },
         "mode": "lines",
         "text": "2701",
         "type": "scatter",
         "x": [
          1,
          0.7713191970782989,
          0.608808675697025,
          0.5477662669319219,
          0.6234898018587334
         ],
         "y": [
          0,
          -0.08551281839494076,
          -0.29318680592551116,
          -0.5497252611103336,
          -0.7818314824680299
         ]
        },
        {
         "hoverinfo": "text",
         "line": {
          "color": "#000000",
          "shape": "spline",
          "width": 0.068
         },
         "mode": "lines",
         "text": "17",
         "type": "scatter",
         "x": [
          0.6234898018587336,
          0.41405303978045016,
          0.1503633254634072,
          -0.08826583460973453,
          -0.22252093395631434
         ],
         "y": [
          0.7818314824680297,
          0.6563580015052203,
          0.6587847729936951,
          0.7710090066477855,
          0.9749279121818236
         ]
        },
        {
         "hoverinfo": "text",
         "line": {
          "color": "#000000",
          "shape": "spline",
          "width": 1.728
         },
         "mode": "lines",
         "text": "432",
         "type": "scatter",
         "x": [
          0.6234898018587336,
          0.32469935110394216,
          -0.0924930220145618,
          -0.5328086506367061,
          -0.900968867902419
         ],
         "y": [
          0.7818314824680297,
          0.5537535109119156,
          0.40523840719519594,
          0.3580329052772754,
          0.43388373911755823
         ]
        },
        {
         "hoverinfo": "text",
         "line": {
          "color": "#000000",
          "shape": "spline",
          "width": 2.988
         },
         "mode": "lines",
         "text": "747",
         "type": "scatter",
         "x": [
          0.6234898018587336,
          0.31387903260311867,
          -0.0842347164775474,
          -0.5096008738303611,
          -0.9009688679024191
         ],
         "y": [
          0.7818314824680297,
          0.45106536888667553,
          0.10562699351710747,
          -0.20563794277339645,
          -0.433883739117558
         ]
        },
        {
         "hoverinfo": "text",
         "line": {
          "color": "#000000",
          "shape": "spline",
          "width": 2.356
         },
         "mode": "lines",
         "text": "589",
         "type": "scatter",
         "x": [
          0.6234898018587336,
          0.36991156286206034,
          0.12172269204180577,
          -0.08708530782374695,
          -0.2225209339563146
         ],
         "y": [
          0.7818314824680297,
          0.4063809170934215,
          -0.058618559020258865,
          -0.5425828630522581,
          -0.9749279121818235
         ]
        },
        {
         "hoverinfo": "text",
         "line": {
          "color": "#000000",
          "shape": "spline",
          "width": 0.688
         },
         "mode": "lines",
         "text": "172",
         "type": "scatter",
         "x": [
          0.6234898018587336,
          0.4676173513940502,
          0.4156598679058223,
          0.46761735139405003,
          0.6234898018587334
         ],
         "y": [
          0.7818314824680297,
          0.43978020888826674,
          -1.1102230246251565e-16,
          -0.4397802088882668,
          -0.7818314824680299
         ]
        },
        {
         "hoverinfo": "text",
         "line": {
          "color": "#000000",
          "shape": "spline",
          "width": 0.404
         },
         "mode": "lines",
         "text": "101",
         "type": "scatter",
         "x": [
          -0.22252093395631434,
          -0.25500350161486063,
          -0.421308675697025,
          -0.6578319623953603,
          -0.900968867902419
         ],
         "y": [
          0.9749279121818236,
          0.7329522222188276,
          0.5283043692372682,
          0.4117072444619201,
          0.43388373911755823
         ]
        },
        {
         "hoverinfo": "text",
         "line": {
          "color": "#000000",
          "shape": "spline",
          "width": 2.592
         },
         "mode": "lines",
         "text": "648",
         "type": "scatter",
         "x": [
          -0.22252093395631434,
          -0.23049519427468307,
          -0.3744966006195778,
          -0.6121221571193671,
          -0.9009688679024191
         ],
         "y": [
          0.9749279121818236,
          0.5991198418270507,
          0.1803480576880885,
          -0.19333671202885147,
          -0.433883739117558
         ]
        },
        {
         "hoverinfo": "text",
         "line": {
          "color": "#000000",
          "shape": "spline",
          "width": 2.292
         },
         "mode": "lines",
         "text": "573",
         "type": "scatter",
         "x": [
          -0.22252093395631434,
          -0.1569567302013289,
          -0.1351019956163338,
          -0.15695673020132903,
          -0.2225209339563146
         ],
         "y": [
          0.9749279121818236,
          0.5266351668482172,
          0,
          -0.5266351668482171,
          -0.9749279121818235
         ]
        },
        {
         "hoverinfo": "text",
         "line": {
          "color": "#000000",
          "shape": "spline",
          "width": 0.396
         },
         "mode": "lines",
         "text": "99",
         "type": "scatter",
         "x": [
          -0.22252093395631434,
          -0.08708530782374681,
          0.12172269204180577,
          0.3699115628620602,
          0.6234898018587334
         ],
         "y": [
          0.9749279121818236,
          0.5425828630522581,
          0.05861855902025881,
          -0.4063809170934216,
          -0.7818314824680299
         ]
        },
        {
         "hoverinfo": "text",
         "line": {
          "color": "#000000",
          "shape": "spline",
          "width": 2.48
         },
         "mode": "lines",
         "text": "620",
         "type": "scatter",
         "x": [
          -0.900968867902419,
          -0.7320372051707156,
          -0.6757266509268143,
          -0.7320372051707156,
          -0.9009688679024191
         ],
         "y": [
          0.43388373911755823,
          0.2576184701010502,
          6.938893903907228e-17,
          -0.25761847010105005,
          -0.433883739117558
         ]
        },
        {
         "hoverinfo": "text",
         "line": {
          "color": "#000000",
          "shape": "spline",
          "width": 4.552
         },
         "mode": "lines",
         "text": "1138",
         "type": "scatter",
         "x": [
          -0.900968867902419,
          -0.612122157119367,
          -0.3744966006195779,
          -0.23049519427468323,
          -0.2225209339563146
         ],
         "y": [
          0.43388373911755823,
          0.1933367120288516,
          -0.18034805768808843,
          -0.5991198418270506,
          -0.9749279121818235
         ]
        },
        {
         "hoverinfo": "text",
         "line": {
          "color": "#000000",
          "shape": "spline",
          "width": 4.76
         },
         "mode": "lines",
         "text": "1190",
         "type": "scatter",
         "x": [
          -0.900968867902419,
          -0.5096008738303611,
          -0.08423471647754743,
          0.31387903260311856,
          0.6234898018587334
         ],
         "y": [
          0.43388373911755823,
          0.20563794277339653,
          -0.10562699351710744,
          -0.4510653688866757,
          -0.7818314824680299
         ]
        },
        {
         "hoverinfo": "text",
         "line": {
          "color": "#000000",
          "shape": "spline",
          "width": 3.212
         },
         "mode": "lines",
         "text": "803",
         "type": "scatter",
         "x": [
          -0.9009688679024191,
          -0.6578319623953603,
          -0.4213086756970251,
          -0.2550035016148608,
          -0.2225209339563146
         ],
         "y": [
          -0.433883739117558,
          -0.41170724446191986,
          -0.5283043692372681,
          -0.7329522222188276,
          -0.9749279121818235
         ]
        },
        {
         "hoverinfo": "text",
         "line": {
          "color": "#000000",
          "shape": "spline",
          "width": 4.764
         },
         "mode": "lines",
         "text": "1191",
         "type": "scatter",
         "x": [
          -0.9009688679024191,
          -0.5328086506367063,
          -0.09249302201456194,
          0.32469935110394194,
          0.6234898018587334
         ],
         "y": [
          -0.433883739117558,
          -0.3580329052772752,
          -0.405238407195196,
          -0.5537535109119157,
          -0.7818314824680299
         ]
        },
        {
         "hoverinfo": "text",
         "line": {
          "color": "#000000",
          "shape": "spline",
          "width": 3.012
         },
         "mode": "lines",
         "text": "753",
         "type": "scatter",
         "x": [
          -0.2225209339563146,
          -0.08826583460973474,
          0.15036332546340705,
          0.41405303978045,
          0.6234898018587334
         ],
         "y": [
          -0.9749279121818235,
          -0.7710090066477855,
          -0.6587847729936951,
          -0.6563580015052204,
          -0.7818314824680299
         ]
        },
        {
         "hoverinfo": "text",
         "marker": {
          "color": [
           "#000000",
           "#000000",
           "#000000",
           "#000000"
          ],
          "size": 0.5
         },
         "mode": "markers",
         "text": "RH to RST 258 x100000",
         "type": "scatter",
         "x": [
          0.5745294134561316
         ],
         "y": [
          0.6966118508790144
         ]
        },
        {
         "hoverinfo": "text",
         "marker": {
          "color": [
           "#000000",
           "#000000",
           "#000000",
           "#000000"
          ],
          "size": 0.5
         },
         "mode": "markers",
         "text": "RH to CF 262 x100000",
         "type": "scatter",
         "x": [
          -0.1762580869382556
         ],
         "y": [
          0.8423377161250958
         ]
        },
        {
         "hoverinfo": "text",
         "marker": {
          "color": [
           "#000000",
           "#000000",
           "#000000",
           "#000000"
          ],
          "size": 0.5
         },
         "mode": "markers",
         "text": "RH to CBC 1145 x100000",
         "type": "scatter",
         "x": [
          -0.7472041308438577
         ],
         "y": [
          0.36650779277173173
         ]
        },
        {
         "hoverinfo": "text",
         "marker": {
          "color": [
           "#000000",
           "#000000",
           "#000000",
           "#000000"
          ],
          "size": 0.5
         },
         "mode": "markers",
         "text": "RH to P 2150 x100000",
         "type": "scatter",
         "x": [
          -0.7472041308438578
         ],
         "y": [
          -0.36650779277173146
         ]
        },
        {
         "hoverinfo": "text",
         "marker": {
          "color": [
           "#000000",
           "#000000",
           "#000000",
           "#000000"
          ],
          "size": 0.5
         },
         "mode": "markers",
         "text": "RH to AP 786 x100000",
         "type": "scatter",
         "x": [
          -0.17625808693825584
         ],
         "y": [
          -0.8423377161250956
         ]
        },
        {
         "hoverinfo": "text",
         "marker": {
          "color": [
           "#000000",
           "#000000",
           "#000000",
           "#000000"
          ],
          "size": 0.5
         },
         "mode": "markers",
         "text": "RH to EC 2701 x100000",
         "type": "scatter",
         "x": [
          0.5745294134561314
         ],
         "y": [
          -0.6966118508790147
         ]
        },
        {
         "hoverinfo": "text",
         "marker": {
          "color": [
           "#000000",
           "#000000",
           "#000000",
           "#000000"
          ],
          "size": 0.5
         },
         "mode": "markers",
         "text": "RST to CF 17 x100000",
         "type": "scatter",
         "x": [
          -0.18641984591976016
         ],
         "y": [
          0.8835155679208975
         ]
        },
        {
         "hoverinfo": "text",
         "marker": {
          "color": [
           "#000000",
           "#000000",
           "#000000",
           "#000000"
          ],
          "size": 0.5
         },
         "mode": "markers",
         "text": "RST to CBC 432 x100000",
         "type": "scatter",
         "x": [
          -0.7684612650379503
         ],
         "y": [
          0.3873848543170588
         ]
        },
        {
         "hoverinfo": "text",
         "marker": {
          "color": [
           "#000000",
           "#000000",
           "#000000",
           "#000000"
          ],
          "size": 0.5
         },
         "mode": "markers",
         "text": "RST to P 747 x100000",
         "type": "scatter",
         "x": [
          -0.7524214864466725
         ],
         "y": [
          -0.3556738422289602
         ]
        },
        {
         "hoverinfo": "text",
         "marker": {
          "color": [
           "#000000",
           "#000000",
           "#000000",
           "#000000"
          ],
          "size": 0.5
         },
         "mode": "markers",
         "text": "RST to AP 589 x100000",
         "type": "scatter",
         "x": [
          -0.17932682452905588
         ],
         "y": [
          -0.8127015844188177
         ]
        },
        {
         "hoverinfo": "text",
         "marker": {
          "color": [
           "#000000",
           "#000000",
           "#000000",
           "#000000"
          ],
          "size": 0.5
         },
         "mode": "markers",
         "text": "RST to EC 172 x100000",
         "type": "scatter",
         "x": [
          0.5486710256356853
         ],
         "y": [
          -0.6629930971328896
         ]
        },
        {
         "hoverinfo": "text",
         "marker": {
          "color": [
           "#000000",
           "#000000",
           "#000000",
           "#000000"
          ],
          "size": 0.5
         },
         "mode": "markers",
         "text": "CF to CBC 101 x100000",
         "type": "scatter",
         "x": [
          -0.8069911590462254
         ],
         "y": [
          0.40511404188519906
         ]
        },
        {
         "hoverinfo": "text",
         "marker": {
          "color": [
           "#000000",
           "#000000",
           "#000000",
           "#000000"
          ],
          "size": 0.5
         },
         "mode": "markers",
         "text": "CF to P 648 x100000",
         "type": "scatter",
         "x": [
          -0.7819974368109912
         ],
         "y": [
          -0.359276704002661
         ]
        },
        {
         "hoverinfo": "text",
         "marker": {
          "color": [
           "#000000",
           "#000000",
           "#000000",
           "#000000"
          ],
          "size": 0.5
         },
         "mode": "markers",
         "text": "CF to AP 573 x100000",
         "type": "scatter",
         "x": [
          -0.1910501161539215
         ],
         "y": [
          -0.8100258196070694
         ]
        },
        {
         "hoverinfo": "text",
         "marker": {
          "color": [
           "#000000",
           "#000000",
           "#000000",
           "#000000"
          ],
          "size": 0.5
         },
         "mode": "markers",
         "text": "CF to EC 99 x100000",
         "type": "scatter",
         "x": [
          0.5235872382567041
         ],
         "y": [
          -0.6469145069074035
         ]
        },
        {
         "hoverinfo": "text",
         "marker": {
          "color": [
           "#000000",
           "#000000",
           "#000000",
           "#000000"
          ],
          "size": 0.5
         },
         "mode": "markers",
         "text": "CBC to P 620 x100000",
         "type": "scatter",
         "x": [
          -0.8198816697912015
         ],
         "y": [
          -0.37834662051051055
         ]
        },
        {
         "hoverinfo": "text",
         "marker": {
          "color": [
           "#000000",
           "#000000",
           "#000000",
           "#000000"
          ],
          "size": 0.5
         },
         "mode": "markers",
         "text": "CBC to AP 1138 x100000",
         "type": "scatter",
         "x": [
          -0.2066735888246945
         ],
         "y": [
          -0.8353955762992147
         ]
        },
        {
         "hoverinfo": "text",
         "marker": {
          "color": [
           "#000000",
           "#000000",
           "#000000",
           "#000000"
          ],
          "size": 0.5
         },
         "mode": "markers",
         "text": "CBC to EC 1190 x100000",
         "type": "scatter",
         "x": [
          0.5141858883148794
         ],
         "y": [
          -0.6544118333055797
         ]
        },
        {
         "hoverinfo": "text",
         "marker": {
          "color": [
           "#000000",
           "#000000",
           "#000000",
           "#000000"
          ],
          "size": 0.5
         },
         "mode": "markers",
         "text": "P to AP 803 x100000",
         "type": "scatter",
         "x": [
          -0.21538456064522227
         ],
         "y": [
          -0.8769045607972383
         ]
        },
        {
         "hoverinfo": "text",
         "marker": {
          "color": [
           "#000000",
           "#000000",
           "#000000",
           "#000000"
          ],
          "size": 0.5
         },
         "mode": "markers",
         "text": "P to EC 1191 x100000",
         "type": "scatter",
         "x": [
          0.5242796869195069
         ],
         "y": [
          -0.6824445406782589
         ]
        },
        {
         "hoverinfo": "text",
         "marker": {
          "color": [
           "#000000",
           "#000000",
           "#000000",
           "#000000"
          ],
          "size": 0.5
         },
         "mode": "markers",
         "text": "AP to EC 753 x100000",
         "type": "scatter",
         "x": [
          0.5513015157109614
         ],
         "y": [
          -0.7151354812104693
         ]
        },
        {
         "hoverinfo": "text",
         "marker": {
          "color": [
           "#FF0000",
           "#FF0000",
           "#FF0000",
           "#FF0000",
           "#FF0000",
           "#FF0000",
           "#FF0000"
          ],
          "line": {
           "color": [
            "rgb(342,342,342)",
            "rgb(342,342,342)",
            "rgb(342,342,342)",
            "rgb(342,342,342)",
            "rgb(342,342,342)",
            "rgb(342,342,342)",
            "rgb(342,342,342)"
           ],
           "width": 0.5
          },
          "size": [
           133.92930062152342,
           105.65390248689113,
           35.771619663779504,
           88.51604226884908,
           97.0465851905695,
           119.24890057145174,
           108.05552232914638
          ],
          "symbol": "circle"
         },
         "mode": "markers+text",
         "name": "",
         "text": [
          "RH",
          "RST",
          "CF",
          "CBC",
          "P",
          "AP",
          "EC"
         ],
         "type": "scatter",
         "x": [
          1,
          0.6234898018587336,
          -0.22252093395631434,
          -0.900968867902419,
          -0.9009688679024191,
          -0.2225209339563146,
          0.6234898018587334
         ],
         "y": [
          0,
          0.7818314824680297,
          0.9749279121818236,
          0.43388373911755823,
          -0.433883739117558,
          -0.9749279121818235,
          -0.7818314824680299
         ]
        }
       ],
       "layout": {
        "autosize": true,
        "font": {
         "size": 20
        },
        "height": 850,
        "hovermode": "closest",
        "margin": {
         "b": 85,
         "l": 20,
         "r": 20,
         "t": 100
        },
        "paper_bgcolor": "rgba(0,0,0,0)",
        "plot_bgcolor": "rgba(0,0,0,0)",
        "showlegend": false,
        "template": {
         "data": {
          "bar": [
           {
            "error_x": {
             "color": "#2a3f5f"
            },
            "error_y": {
             "color": "#2a3f5f"
            },
            "marker": {
             "line": {
              "color": "#E5ECF6",
              "width": 0.5
             }
            },
            "type": "bar"
           }
          ],
          "barpolar": [
           {
            "marker": {
             "line": {
              "color": "#E5ECF6",
              "width": 0.5
             }
            },
            "type": "barpolar"
           }
          ],
          "carpet": [
           {
            "aaxis": {
             "endlinecolor": "#2a3f5f",
             "gridcolor": "white",
             "linecolor": "white",
             "minorgridcolor": "white",
             "startlinecolor": "#2a3f5f"
            },
            "baxis": {
             "endlinecolor": "#2a3f5f",
             "gridcolor": "white",
             "linecolor": "white",
             "minorgridcolor": "white",
             "startlinecolor": "#2a3f5f"
            },
            "type": "carpet"
           }
          ],
          "choropleth": [
           {
            "colorbar": {
             "outlinewidth": 0,
             "ticks": ""
            },
            "type": "choropleth"
           }
          ],
          "contour": [
           {
            "colorbar": {
             "outlinewidth": 0,
             "ticks": ""
            },
            "colorscale": [
             [
              0,
              "#0d0887"
             ],
             [
              0.1111111111111111,
              "#46039f"
             ],
             [
              0.2222222222222222,
              "#7201a8"
             ],
             [
              0.3333333333333333,
              "#9c179e"
             ],
             [
              0.4444444444444444,
              "#bd3786"
             ],
             [
              0.5555555555555556,
              "#d8576b"
             ],
             [
              0.6666666666666666,
              "#ed7953"
             ],
             [
              0.7777777777777778,
              "#fb9f3a"
             ],
             [
              0.8888888888888888,
              "#fdca26"
             ],
             [
              1,
              "#f0f921"
             ]
            ],
            "type": "contour"
           }
          ],
          "contourcarpet": [
           {
            "colorbar": {
             "outlinewidth": 0,
             "ticks": ""
            },
            "type": "contourcarpet"
           }
          ],
          "heatmap": [
           {
            "colorbar": {
             "outlinewidth": 0,
             "ticks": ""
            },
            "colorscale": [
             [
              0,
              "#0d0887"
             ],
             [
              0.1111111111111111,
              "#46039f"
             ],
             [
              0.2222222222222222,
              "#7201a8"
             ],
             [
              0.3333333333333333,
              "#9c179e"
             ],
             [
              0.4444444444444444,
              "#bd3786"
             ],
             [
              0.5555555555555556,
              "#d8576b"
             ],
             [
              0.6666666666666666,
              "#ed7953"
             ],
             [
              0.7777777777777778,
              "#fb9f3a"
             ],
             [
              0.8888888888888888,
              "#fdca26"
             ],
             [
              1,
              "#f0f921"
             ]
            ],
            "type": "heatmap"
           }
          ],
          "heatmapgl": [
           {
            "colorbar": {
             "outlinewidth": 0,
             "ticks": ""
            },
            "colorscale": [
             [
              0,
              "#0d0887"
             ],
             [
              0.1111111111111111,
              "#46039f"
             ],
             [
              0.2222222222222222,
              "#7201a8"
             ],
             [
              0.3333333333333333,
              "#9c179e"
             ],
             [
              0.4444444444444444,
              "#bd3786"
             ],
             [
              0.5555555555555556,
              "#d8576b"
             ],
             [
              0.6666666666666666,
              "#ed7953"
             ],
             [
              0.7777777777777778,
              "#fb9f3a"
             ],
             [
              0.8888888888888888,
              "#fdca26"
             ],
             [
              1,
              "#f0f921"
             ]
            ],
            "type": "heatmapgl"
           }
          ],
          "histogram": [
           {
            "marker": {
             "colorbar": {
              "outlinewidth": 0,
              "ticks": ""
             }
            },
            "type": "histogram"
           }
          ],
          "histogram2d": [
           {
            "colorbar": {
             "outlinewidth": 0,
             "ticks": ""
            },
            "colorscale": [
             [
              0,
              "#0d0887"
             ],
             [
              0.1111111111111111,
              "#46039f"
             ],
             [
              0.2222222222222222,
              "#7201a8"
             ],
             [
              0.3333333333333333,
              "#9c179e"
             ],
             [
              0.4444444444444444,
              "#bd3786"
             ],
             [
              0.5555555555555556,
              "#d8576b"
             ],
             [
              0.6666666666666666,
              "#ed7953"
             ],
             [
              0.7777777777777778,
              "#fb9f3a"
             ],
             [
              0.8888888888888888,
              "#fdca26"
             ],
             [
              1,
              "#f0f921"
             ]
            ],
            "type": "histogram2d"
           }
          ],
          "histogram2dcontour": [
           {
            "colorbar": {
             "outlinewidth": 0,
             "ticks": ""
            },
            "colorscale": [
             [
              0,
              "#0d0887"
             ],
             [
              0.1111111111111111,
              "#46039f"
             ],
             [
              0.2222222222222222,
              "#7201a8"
             ],
             [
              0.3333333333333333,
              "#9c179e"
             ],
             [
              0.4444444444444444,
              "#bd3786"
             ],
             [
              0.5555555555555556,
              "#d8576b"
             ],
             [
              0.6666666666666666,
              "#ed7953"
             ],
             [
              0.7777777777777778,
              "#fb9f3a"
             ],
             [
              0.8888888888888888,
              "#fdca26"
             ],
             [
              1,
              "#f0f921"
             ]
            ],
            "type": "histogram2dcontour"
           }
          ],
          "mesh3d": [
           {
            "colorbar": {
             "outlinewidth": 0,
             "ticks": ""
            },
            "type": "mesh3d"
           }
          ],
          "parcoords": [
           {
            "line": {
             "colorbar": {
              "outlinewidth": 0,
              "ticks": ""
             }
            },
            "type": "parcoords"
           }
          ],
          "pie": [
           {
            "automargin": true,
            "type": "pie"
           }
          ],
          "scatter": [
           {
            "marker": {
             "colorbar": {
              "outlinewidth": 0,
              "ticks": ""
             }
            },
            "type": "scatter"
           }
          ],
          "scatter3d": [
           {
            "line": {
             "colorbar": {
              "outlinewidth": 0,
              "ticks": ""
             }
            },
            "marker": {
             "colorbar": {
              "outlinewidth": 0,
              "ticks": ""
             }
            },
            "type": "scatter3d"
           }
          ],
          "scattercarpet": [
           {
            "marker": {
             "colorbar": {
              "outlinewidth": 0,
              "ticks": ""
             }
            },
            "type": "scattercarpet"
           }
          ],
          "scattergeo": [
           {
            "marker": {
             "colorbar": {
              "outlinewidth": 0,
              "ticks": ""
             }
            },
            "type": "scattergeo"
           }
          ],
          "scattergl": [
           {
            "marker": {
             "colorbar": {
              "outlinewidth": 0,
              "ticks": ""
             }
            },
            "type": "scattergl"
           }
          ],
          "scattermapbox": [
           {
            "marker": {
             "colorbar": {
              "outlinewidth": 0,
              "ticks": ""
             }
            },
            "type": "scattermapbox"
           }
          ],
          "scatterpolar": [
           {
            "marker": {
             "colorbar": {
              "outlinewidth": 0,
              "ticks": ""
             }
            },
            "type": "scatterpolar"
           }
          ],
          "scatterpolargl": [
           {
            "marker": {
             "colorbar": {
              "outlinewidth": 0,
              "ticks": ""
             }
            },
            "type": "scatterpolargl"
           }
          ],
          "scatterternary": [
           {
            "marker": {
             "colorbar": {
              "outlinewidth": 0,
              "ticks": ""
             }
            },
            "type": "scatterternary"
           }
          ],
          "surface": [
           {
            "colorbar": {
             "outlinewidth": 0,
             "ticks": ""
            },
            "colorscale": [
             [
              0,
              "#0d0887"
             ],
             [
              0.1111111111111111,
              "#46039f"
             ],
             [
              0.2222222222222222,
              "#7201a8"
             ],
             [
              0.3333333333333333,
              "#9c179e"
             ],
             [
              0.4444444444444444,
              "#bd3786"
             ],
             [
              0.5555555555555556,
              "#d8576b"
             ],
             [
              0.6666666666666666,
              "#ed7953"
             ],
             [
              0.7777777777777778,
              "#fb9f3a"
             ],
             [
              0.8888888888888888,
              "#fdca26"
             ],
             [
              1,
              "#f0f921"
             ]
            ],
            "type": "surface"
           }
          ],
          "table": [
           {
            "cells": {
             "fill": {
              "color": "#EBF0F8"
             },
             "line": {
              "color": "white"
             }
            },
            "header": {
             "fill": {
              "color": "#C8D4E3"
             },
             "line": {
              "color": "white"
             }
            },
            "type": "table"
           }
          ]
         },
         "layout": {
          "annotationdefaults": {
           "arrowcolor": "#2a3f5f",
           "arrowhead": 0,
           "arrowwidth": 1
          },
          "coloraxis": {
           "colorbar": {
            "outlinewidth": 0,
            "ticks": ""
           }
          },
          "colorscale": {
           "diverging": [
            [
             0,
             "#8e0152"
            ],
            [
             0.1,
             "#c51b7d"
            ],
            [
             0.2,
             "#de77ae"
            ],
            [
             0.3,
             "#f1b6da"
            ],
            [
             0.4,
             "#fde0ef"
            ],
            [
             0.5,
             "#f7f7f7"
            ],
            [
             0.6,
             "#e6f5d0"
            ],
            [
             0.7,
             "#b8e186"
            ],
            [
             0.8,
             "#7fbc41"
            ],
            [
             0.9,
             "#4d9221"
            ],
            [
             1,
             "#276419"
            ]
           ],
           "sequential": [
            [
             0,
             "#0d0887"
            ],
            [
             0.1111111111111111,
             "#46039f"
            ],
            [
             0.2222222222222222,
             "#7201a8"
            ],
            [
             0.3333333333333333,
             "#9c179e"
            ],
            [
             0.4444444444444444,
             "#bd3786"
            ],
            [
             0.5555555555555556,
             "#d8576b"
            ],
            [
             0.6666666666666666,
             "#ed7953"
            ],
            [
             0.7777777777777778,
             "#fb9f3a"
            ],
            [
             0.8888888888888888,
             "#fdca26"
            ],
            [
             1,
             "#f0f921"
            ]
           ],
           "sequentialminus": [
            [
             0,
             "#0d0887"
            ],
            [
             0.1111111111111111,
             "#46039f"
            ],
            [
             0.2222222222222222,
             "#7201a8"
            ],
            [
             0.3333333333333333,
             "#9c179e"
            ],
            [
             0.4444444444444444,
             "#bd3786"
            ],
            [
             0.5555555555555556,
             "#d8576b"
            ],
            [
             0.6666666666666666,
             "#ed7953"
            ],
            [
             0.7777777777777778,
             "#fb9f3a"
            ],
            [
             0.8888888888888888,
             "#fdca26"
            ],
            [
             1,
             "#f0f921"
            ]
           ]
          },
          "colorway": [
           "#636efa",
           "#EF553B",
           "#00cc96",
           "#ab63fa",
           "#FFA15A",
           "#19d3f3",
           "#FF6692",
           "#B6E880",
           "#FF97FF",
           "#FECB52"
          ],
          "font": {
           "color": "#2a3f5f"
          },
          "geo": {
           "bgcolor": "white",
           "lakecolor": "white",
           "landcolor": "#E5ECF6",
           "showlakes": true,
           "showland": true,
           "subunitcolor": "white"
          },
          "hoverlabel": {
           "align": "left"
          },
          "hovermode": "closest",
          "mapbox": {
           "style": "light"
          },
          "paper_bgcolor": "white",
          "plot_bgcolor": "#E5ECF6",
          "polar": {
           "angularaxis": {
            "gridcolor": "white",
            "linecolor": "white",
            "ticks": ""
           },
           "bgcolor": "#E5ECF6",
           "radialaxis": {
            "gridcolor": "white",
            "linecolor": "white",
            "ticks": ""
           }
          },
          "scene": {
           "xaxis": {
            "backgroundcolor": "#E5ECF6",
            "gridcolor": "white",
            "gridwidth": 2,
            "linecolor": "white",
            "showbackground": true,
            "ticks": "",
            "zerolinecolor": "white"
           },
           "yaxis": {
            "backgroundcolor": "#E5ECF6",
            "gridcolor": "white",
            "gridwidth": 2,
            "linecolor": "white",
            "showbackground": true,
            "ticks": "",
            "zerolinecolor": "white"
           },
           "zaxis": {
            "backgroundcolor": "#E5ECF6",
            "gridcolor": "white",
            "gridwidth": 2,
            "linecolor": "white",
            "showbackground": true,
            "ticks": "",
            "zerolinecolor": "white"
           }
          },
          "shapedefaults": {
           "line": {
            "color": "#2a3f5f"
           }
          },
          "ternary": {
           "aaxis": {
            "gridcolor": "white",
            "linecolor": "white",
            "ticks": ""
           },
           "baxis": {
            "gridcolor": "white",
            "linecolor": "white",
            "ticks": ""
           },
           "bgcolor": "#E5ECF6",
           "caxis": {
            "gridcolor": "white",
            "linecolor": "white",
            "ticks": ""
           }
          },
          "title": {
           "x": 0.05
          },
          "xaxis": {
           "automargin": true,
           "gridcolor": "white",
           "linecolor": "white",
           "ticks": "",
           "title": {
            "standoff": 15
           },
           "zerolinecolor": "white",
           "zerolinewidth": 2
          },
          "yaxis": {
           "automargin": true,
           "gridcolor": "white",
           "linecolor": "white",
           "ticks": "",
           "title": {
            "standoff": 15
           },
           "zerolinecolor": "white",
           "zerolinewidth": 2
          }
         }
        },
        "title": {
         "text": "Actions Overlap"
        },
        "width": 800,
        "xaxis": {
         "showgrid": false,
         "showline": false,
         "showticklabels": false,
         "title": {
          "text": ""
         },
         "zeroline": false
        },
        "yaxis": {
         "showgrid": false,
         "showline": false,
         "showticklabels": false,
         "title": {
          "text": ""
         },
         "zeroline": false
        }
       }
      },
      "text/html": [
       "<div>\n",
       "        \n",
       "        \n",
       "            <div id=\"4dd79082-d59b-4d5d-823a-40b0a65eeafb\" class=\"plotly-graph-div\" style=\"height:850px; width:800px;\"></div>\n",
       "            <script type=\"text/javascript\">\n",
       "                require([\"plotly\"], function(Plotly) {\n",
       "                    window.PLOTLYENV=window.PLOTLYENV || {};\n",
       "                    \n",
       "                if (document.getElementById(\"4dd79082-d59b-4d5d-823a-40b0a65eeafb\")) {\n",
       "                    Plotly.newPlot(\n",
       "                        '4dd79082-d59b-4d5d-823a-40b0a65eeafb',\n",
       "                        [{\"hoverinfo\": \"text\", \"line\": {\"color\": \"#000000\", \"shape\": \"spline\", \"width\": 1.032}, \"mode\": \"lines\", \"text\": \"258\", \"type\": \"scatter\", \"x\": [1.0, 0.7713191970782991, 0.608808675697025, 0.5477662669319221, 0.6234898018587336], \"y\": [0.0, 0.08551281839494075, 0.29318680592551116, 0.5497252611103334, 0.7818314824680297]}, {\"hoverinfo\": \"text\", \"line\": {\"color\": \"#000000\", \"shape\": \"spline\", \"width\": 1.048}, \"mode\": \"lines\", \"text\": \"262\", \"type\": \"scatter\", \"x\": [1.0, 0.6353886624415954, 0.2591596886812286, -0.052279362908831284, -0.22252093395631434], \"y\": [0.0, 0.09139949176704595, 0.3249759707272745, 0.6397964423693216, 0.9749279121818236]}, {\"hoverinfo\": \"text\", \"line\": {\"color\": \"#000000\", \"shape\": \"spline\", \"width\": 4.58}, \"mode\": \"lines\", \"text\": \"1145\", \"type\": \"scatter\", \"x\": [1.0, 0.5483574818919876, 0.030063022243908555, -0.4785051655017298, -0.900968867902419], \"y\": [0.0, 0.03583414809676262, 0.13171470651783018, 0.2702088464593722, 0.43388373911755823]}, {\"hoverinfo\": \"text\", \"line\": {\"color\": \"#000000\", \"shape\": \"spline\", \"width\": 8.6}, \"mode\": \"lines\", \"text\": \"2150\", \"type\": \"scatter\", \"x\": [1.0, 0.5483574818919876, 0.03006302224390847, -0.4785051655017298, -0.9009688679024191], \"y\": [0.0, -0.0358341480967626, -0.1317147065178301, -0.2702088464593721, -0.433883739117558]}, {\"hoverinfo\": \"text\", \"line\": {\"color\": \"#000000\", \"shape\": \"spline\", \"width\": 3.144}, \"mode\": \"lines\", \"text\": \"786\", \"type\": \"scatter\", \"x\": [1.0, 0.6353886624415954, 0.2591596886812285, -0.052279362908831443, -0.2225209339563146], \"y\": [0.0, -0.09139949176704595, -0.32497597072727447, -0.6397964423693216, -0.9749279121818235]}, {\"hoverinfo\": \"text\", \"line\": {\"color\": \"#000000\", \"shape\": \"spline\", \"width\": 10.804}, \"mode\": \"lines\", \"text\": \"2701\", \"type\": \"scatter\", \"x\": [1.0, 0.7713191970782989, 0.608808675697025, 0.5477662669319219, 0.6234898018587334], \"y\": [0.0, -0.08551281839494076, -0.29318680592551116, -0.5497252611103336, -0.7818314824680299]}, {\"hoverinfo\": \"text\", \"line\": {\"color\": \"#000000\", \"shape\": \"spline\", \"width\": 0.068}, \"mode\": \"lines\", \"text\": \"17\", \"type\": \"scatter\", \"x\": [0.6234898018587336, 0.41405303978045016, 0.1503633254634072, -0.08826583460973453, -0.22252093395631434], \"y\": [0.7818314824680297, 0.6563580015052203, 0.6587847729936951, 0.7710090066477855, 0.9749279121818236]}, {\"hoverinfo\": \"text\", \"line\": {\"color\": \"#000000\", \"shape\": \"spline\", \"width\": 1.728}, \"mode\": \"lines\", \"text\": \"432\", \"type\": \"scatter\", \"x\": [0.6234898018587336, 0.32469935110394216, -0.0924930220145618, -0.5328086506367061, -0.900968867902419], \"y\": [0.7818314824680297, 0.5537535109119156, 0.40523840719519594, 0.3580329052772754, 0.43388373911755823]}, {\"hoverinfo\": \"text\", \"line\": {\"color\": \"#000000\", \"shape\": \"spline\", \"width\": 2.988}, \"mode\": \"lines\", \"text\": \"747\", \"type\": \"scatter\", \"x\": [0.6234898018587336, 0.31387903260311867, -0.0842347164775474, -0.5096008738303611, -0.9009688679024191], \"y\": [0.7818314824680297, 0.45106536888667553, 0.10562699351710747, -0.20563794277339645, -0.433883739117558]}, {\"hoverinfo\": \"text\", \"line\": {\"color\": \"#000000\", \"shape\": \"spline\", \"width\": 2.356}, \"mode\": \"lines\", \"text\": \"589\", \"type\": \"scatter\", \"x\": [0.6234898018587336, 0.36991156286206034, 0.12172269204180577, -0.08708530782374695, -0.2225209339563146], \"y\": [0.7818314824680297, 0.4063809170934215, -0.058618559020258865, -0.5425828630522581, -0.9749279121818235]}, {\"hoverinfo\": \"text\", \"line\": {\"color\": \"#000000\", \"shape\": \"spline\", \"width\": 0.688}, \"mode\": \"lines\", \"text\": \"172\", \"type\": \"scatter\", \"x\": [0.6234898018587336, 0.4676173513940502, 0.4156598679058223, 0.46761735139405003, 0.6234898018587334], \"y\": [0.7818314824680297, 0.43978020888826674, -1.1102230246251565e-16, -0.4397802088882668, -0.7818314824680299]}, {\"hoverinfo\": \"text\", \"line\": {\"color\": \"#000000\", \"shape\": \"spline\", \"width\": 0.404}, \"mode\": \"lines\", \"text\": \"101\", \"type\": \"scatter\", \"x\": [-0.22252093395631434, -0.25500350161486063, -0.421308675697025, -0.6578319623953603, -0.900968867902419], \"y\": [0.9749279121818236, 0.7329522222188276, 0.5283043692372682, 0.4117072444619201, 0.43388373911755823]}, {\"hoverinfo\": \"text\", \"line\": {\"color\": \"#000000\", \"shape\": \"spline\", \"width\": 2.592}, \"mode\": \"lines\", \"text\": \"648\", \"type\": \"scatter\", \"x\": [-0.22252093395631434, -0.23049519427468307, -0.3744966006195778, -0.6121221571193671, -0.9009688679024191], \"y\": [0.9749279121818236, 0.5991198418270507, 0.1803480576880885, -0.19333671202885147, -0.433883739117558]}, {\"hoverinfo\": \"text\", \"line\": {\"color\": \"#000000\", \"shape\": \"spline\", \"width\": 2.292}, \"mode\": \"lines\", \"text\": \"573\", \"type\": \"scatter\", \"x\": [-0.22252093395631434, -0.1569567302013289, -0.1351019956163338, -0.15695673020132903, -0.2225209339563146], \"y\": [0.9749279121818236, 0.5266351668482172, 0.0, -0.5266351668482171, -0.9749279121818235]}, {\"hoverinfo\": \"text\", \"line\": {\"color\": \"#000000\", \"shape\": \"spline\", \"width\": 0.396}, \"mode\": \"lines\", \"text\": \"99\", \"type\": \"scatter\", \"x\": [-0.22252093395631434, -0.08708530782374681, 0.12172269204180577, 0.3699115628620602, 0.6234898018587334], \"y\": [0.9749279121818236, 0.5425828630522581, 0.05861855902025881, -0.4063809170934216, -0.7818314824680299]}, {\"hoverinfo\": \"text\", \"line\": {\"color\": \"#000000\", \"shape\": \"spline\", \"width\": 2.48}, \"mode\": \"lines\", \"text\": \"620\", \"type\": \"scatter\", \"x\": [-0.900968867902419, -0.7320372051707156, -0.6757266509268143, -0.7320372051707156, -0.9009688679024191], \"y\": [0.43388373911755823, 0.2576184701010502, 6.938893903907228e-17, -0.25761847010105005, -0.433883739117558]}, {\"hoverinfo\": \"text\", \"line\": {\"color\": \"#000000\", \"shape\": \"spline\", \"width\": 4.552}, \"mode\": \"lines\", \"text\": \"1138\", \"type\": \"scatter\", \"x\": [-0.900968867902419, -0.612122157119367, -0.3744966006195779, -0.23049519427468323, -0.2225209339563146], \"y\": [0.43388373911755823, 0.1933367120288516, -0.18034805768808843, -0.5991198418270506, -0.9749279121818235]}, {\"hoverinfo\": \"text\", \"line\": {\"color\": \"#000000\", \"shape\": \"spline\", \"width\": 4.76}, \"mode\": \"lines\", \"text\": \"1190\", \"type\": \"scatter\", \"x\": [-0.900968867902419, -0.5096008738303611, -0.08423471647754743, 0.31387903260311856, 0.6234898018587334], \"y\": [0.43388373911755823, 0.20563794277339653, -0.10562699351710744, -0.4510653688866757, -0.7818314824680299]}, {\"hoverinfo\": \"text\", \"line\": {\"color\": \"#000000\", \"shape\": \"spline\", \"width\": 3.212}, \"mode\": \"lines\", \"text\": \"803\", \"type\": \"scatter\", \"x\": [-0.9009688679024191, -0.6578319623953603, -0.4213086756970251, -0.2550035016148608, -0.2225209339563146], \"y\": [-0.433883739117558, -0.41170724446191986, -0.5283043692372681, -0.7329522222188276, -0.9749279121818235]}, {\"hoverinfo\": \"text\", \"line\": {\"color\": \"#000000\", \"shape\": \"spline\", \"width\": 4.764}, \"mode\": \"lines\", \"text\": \"1191\", \"type\": \"scatter\", \"x\": [-0.9009688679024191, -0.5328086506367063, -0.09249302201456194, 0.32469935110394194, 0.6234898018587334], \"y\": [-0.433883739117558, -0.3580329052772752, -0.405238407195196, -0.5537535109119157, -0.7818314824680299]}, {\"hoverinfo\": \"text\", \"line\": {\"color\": \"#000000\", \"shape\": \"spline\", \"width\": 3.012}, \"mode\": \"lines\", \"text\": \"753\", \"type\": \"scatter\", \"x\": [-0.2225209339563146, -0.08826583460973474, 0.15036332546340705, 0.41405303978045, 0.6234898018587334], \"y\": [-0.9749279121818235, -0.7710090066477855, -0.6587847729936951, -0.6563580015052204, -0.7818314824680299]}, {\"hoverinfo\": \"text\", \"marker\": {\"color\": [\"#000000\", \"#000000\", \"#000000\", \"#000000\"], \"size\": 0.5}, \"mode\": \"markers\", \"text\": \"RH to RST 258 x100000\", \"type\": \"scatter\", \"x\": [0.5745294134561316], \"y\": [0.6966118508790144]}, {\"hoverinfo\": \"text\", \"marker\": {\"color\": [\"#000000\", \"#000000\", \"#000000\", \"#000000\"], \"size\": 0.5}, \"mode\": \"markers\", \"text\": \"RH to CF 262 x100000\", \"type\": \"scatter\", \"x\": [-0.1762580869382556], \"y\": [0.8423377161250958]}, {\"hoverinfo\": \"text\", \"marker\": {\"color\": [\"#000000\", \"#000000\", \"#000000\", \"#000000\"], \"size\": 0.5}, \"mode\": \"markers\", \"text\": \"RH to CBC 1145 x100000\", \"type\": \"scatter\", \"x\": [-0.7472041308438577], \"y\": [0.36650779277173173]}, {\"hoverinfo\": \"text\", \"marker\": {\"color\": [\"#000000\", \"#000000\", \"#000000\", \"#000000\"], \"size\": 0.5}, \"mode\": \"markers\", \"text\": \"RH to P 2150 x100000\", \"type\": \"scatter\", \"x\": [-0.7472041308438578], \"y\": [-0.36650779277173146]}, {\"hoverinfo\": \"text\", \"marker\": {\"color\": [\"#000000\", \"#000000\", \"#000000\", \"#000000\"], \"size\": 0.5}, \"mode\": \"markers\", \"text\": \"RH to AP 786 x100000\", \"type\": \"scatter\", \"x\": [-0.17625808693825584], \"y\": [-0.8423377161250956]}, {\"hoverinfo\": \"text\", \"marker\": {\"color\": [\"#000000\", \"#000000\", \"#000000\", \"#000000\"], \"size\": 0.5}, \"mode\": \"markers\", \"text\": \"RH to EC 2701 x100000\", \"type\": \"scatter\", \"x\": [0.5745294134561314], \"y\": [-0.6966118508790147]}, {\"hoverinfo\": \"text\", \"marker\": {\"color\": [\"#000000\", \"#000000\", \"#000000\", \"#000000\"], \"size\": 0.5}, \"mode\": \"markers\", \"text\": \"RST to CF 17 x100000\", \"type\": \"scatter\", \"x\": [-0.18641984591976016], \"y\": [0.8835155679208975]}, {\"hoverinfo\": \"text\", \"marker\": {\"color\": [\"#000000\", \"#000000\", \"#000000\", \"#000000\"], \"size\": 0.5}, \"mode\": \"markers\", \"text\": \"RST to CBC 432 x100000\", \"type\": \"scatter\", \"x\": [-0.7684612650379503], \"y\": [0.3873848543170588]}, {\"hoverinfo\": \"text\", \"marker\": {\"color\": [\"#000000\", \"#000000\", \"#000000\", \"#000000\"], \"size\": 0.5}, \"mode\": \"markers\", \"text\": \"RST to P 747 x100000\", \"type\": \"scatter\", \"x\": [-0.7524214864466725], \"y\": [-0.3556738422289602]}, {\"hoverinfo\": \"text\", \"marker\": {\"color\": [\"#000000\", \"#000000\", \"#000000\", \"#000000\"], \"size\": 0.5}, \"mode\": \"markers\", \"text\": \"RST to AP 589 x100000\", \"type\": \"scatter\", \"x\": [-0.17932682452905588], \"y\": [-0.8127015844188177]}, {\"hoverinfo\": \"text\", \"marker\": {\"color\": [\"#000000\", \"#000000\", \"#000000\", \"#000000\"], \"size\": 0.5}, \"mode\": \"markers\", \"text\": \"RST to EC 172 x100000\", \"type\": \"scatter\", \"x\": [0.5486710256356853], \"y\": [-0.6629930971328896]}, {\"hoverinfo\": \"text\", \"marker\": {\"color\": [\"#000000\", \"#000000\", \"#000000\", \"#000000\"], \"size\": 0.5}, \"mode\": \"markers\", \"text\": \"CF to CBC 101 x100000\", \"type\": \"scatter\", \"x\": [-0.8069911590462254], \"y\": [0.40511404188519906]}, {\"hoverinfo\": \"text\", \"marker\": {\"color\": [\"#000000\", \"#000000\", \"#000000\", \"#000000\"], \"size\": 0.5}, \"mode\": \"markers\", \"text\": \"CF to P 648 x100000\", \"type\": \"scatter\", \"x\": [-0.7819974368109912], \"y\": [-0.359276704002661]}, {\"hoverinfo\": \"text\", \"marker\": {\"color\": [\"#000000\", \"#000000\", \"#000000\", \"#000000\"], \"size\": 0.5}, \"mode\": \"markers\", \"text\": \"CF to AP 573 x100000\", \"type\": \"scatter\", \"x\": [-0.1910501161539215], \"y\": [-0.8100258196070694]}, {\"hoverinfo\": \"text\", \"marker\": {\"color\": [\"#000000\", \"#000000\", \"#000000\", \"#000000\"], \"size\": 0.5}, \"mode\": \"markers\", \"text\": \"CF to EC 99 x100000\", \"type\": \"scatter\", \"x\": [0.5235872382567041], \"y\": [-0.6469145069074035]}, {\"hoverinfo\": \"text\", \"marker\": {\"color\": [\"#000000\", \"#000000\", \"#000000\", \"#000000\"], \"size\": 0.5}, \"mode\": \"markers\", \"text\": \"CBC to P 620 x100000\", \"type\": \"scatter\", \"x\": [-0.8198816697912015], \"y\": [-0.37834662051051055]}, {\"hoverinfo\": \"text\", \"marker\": {\"color\": [\"#000000\", \"#000000\", \"#000000\", \"#000000\"], \"size\": 0.5}, \"mode\": \"markers\", \"text\": \"CBC to AP 1138 x100000\", \"type\": \"scatter\", \"x\": [-0.2066735888246945], \"y\": [-0.8353955762992147]}, {\"hoverinfo\": \"text\", \"marker\": {\"color\": [\"#000000\", \"#000000\", \"#000000\", \"#000000\"], \"size\": 0.5}, \"mode\": \"markers\", \"text\": \"CBC to EC 1190 x100000\", \"type\": \"scatter\", \"x\": [0.5141858883148794], \"y\": [-0.6544118333055797]}, {\"hoverinfo\": \"text\", \"marker\": {\"color\": [\"#000000\", \"#000000\", \"#000000\", \"#000000\"], \"size\": 0.5}, \"mode\": \"markers\", \"text\": \"P to AP 803 x100000\", \"type\": \"scatter\", \"x\": [-0.21538456064522227], \"y\": [-0.8769045607972383]}, {\"hoverinfo\": \"text\", \"marker\": {\"color\": [\"#000000\", \"#000000\", \"#000000\", \"#000000\"], \"size\": 0.5}, \"mode\": \"markers\", \"text\": \"P to EC 1191 x100000\", \"type\": \"scatter\", \"x\": [0.5242796869195069], \"y\": [-0.6824445406782589]}, {\"hoverinfo\": \"text\", \"marker\": {\"color\": [\"#000000\", \"#000000\", \"#000000\", \"#000000\"], \"size\": 0.5}, \"mode\": \"markers\", \"text\": \"AP to EC 753 x100000\", \"type\": \"scatter\", \"x\": [0.5513015157109614], \"y\": [-0.7151354812104693]}, {\"hoverinfo\": \"text\", \"marker\": {\"color\": [\"#FF0000\", \"#FF0000\", \"#FF0000\", \"#FF0000\", \"#FF0000\", \"#FF0000\", \"#FF0000\"], \"line\": {\"color\": [\"rgb(342,342,342)\", \"rgb(342,342,342)\", \"rgb(342,342,342)\", \"rgb(342,342,342)\", \"rgb(342,342,342)\", \"rgb(342,342,342)\", \"rgb(342,342,342)\"], \"width\": 0.5}, \"size\": [133.92930062152342, 105.65390248689113, 35.771619663779504, 88.51604226884908, 97.0465851905695, 119.24890057145174, 108.05552232914638], \"symbol\": \"circle\"}, \"mode\": \"markers+text\", \"name\": \"\", \"text\": [\"RH\", \"RST\", \"CF\", \"CBC\", \"P\", \"AP\", \"EC\"], \"type\": \"scatter\", \"x\": [1.0, 0.6234898018587336, -0.22252093395631434, -0.900968867902419, -0.9009688679024191, -0.2225209339563146, 0.6234898018587334], \"y\": [0.0, 0.7818314824680297, 0.9749279121818236, 0.43388373911755823, -0.433883739117558, -0.9749279121818235, -0.7818314824680299]}],\n",
       "                        {\"autosize\": true, \"font\": {\"size\": 20}, \"height\": 850, \"hovermode\": \"closest\", \"margin\": {\"b\": 85, \"l\": 20, \"r\": 20, \"t\": 100}, \"paper_bgcolor\": \"rgba(0,0,0,0)\", \"plot_bgcolor\": \"rgba(0,0,0,0)\", \"showlegend\": false, \"template\": {\"data\": {\"bar\": [{\"error_x\": {\"color\": \"#2a3f5f\"}, \"error_y\": {\"color\": \"#2a3f5f\"}, \"marker\": {\"line\": {\"color\": \"#E5ECF6\", \"width\": 0.5}}, \"type\": \"bar\"}], \"barpolar\": [{\"marker\": {\"line\": {\"color\": \"#E5ECF6\", \"width\": 0.5}}, \"type\": \"barpolar\"}], \"carpet\": [{\"aaxis\": {\"endlinecolor\": \"#2a3f5f\", \"gridcolor\": \"white\", \"linecolor\": \"white\", \"minorgridcolor\": \"white\", \"startlinecolor\": \"#2a3f5f\"}, \"baxis\": {\"endlinecolor\": \"#2a3f5f\", \"gridcolor\": \"white\", \"linecolor\": \"white\", \"minorgridcolor\": \"white\", \"startlinecolor\": \"#2a3f5f\"}, \"type\": \"carpet\"}], \"choropleth\": [{\"colorbar\": {\"outlinewidth\": 0, \"ticks\": \"\"}, \"type\": \"choropleth\"}], \"contour\": [{\"colorbar\": {\"outlinewidth\": 0, \"ticks\": \"\"}, \"colorscale\": [[0.0, \"#0d0887\"], [0.1111111111111111, \"#46039f\"], [0.2222222222222222, \"#7201a8\"], [0.3333333333333333, \"#9c179e\"], [0.4444444444444444, \"#bd3786\"], [0.5555555555555556, \"#d8576b\"], [0.6666666666666666, \"#ed7953\"], [0.7777777777777778, \"#fb9f3a\"], [0.8888888888888888, \"#fdca26\"], [1.0, \"#f0f921\"]], \"type\": \"contour\"}], \"contourcarpet\": [{\"colorbar\": {\"outlinewidth\": 0, \"ticks\": \"\"}, \"type\": \"contourcarpet\"}], \"heatmap\": [{\"colorbar\": {\"outlinewidth\": 0, \"ticks\": \"\"}, \"colorscale\": [[0.0, \"#0d0887\"], [0.1111111111111111, \"#46039f\"], [0.2222222222222222, \"#7201a8\"], [0.3333333333333333, \"#9c179e\"], [0.4444444444444444, \"#bd3786\"], [0.5555555555555556, \"#d8576b\"], [0.6666666666666666, \"#ed7953\"], [0.7777777777777778, \"#fb9f3a\"], [0.8888888888888888, \"#fdca26\"], [1.0, \"#f0f921\"]], \"type\": \"heatmap\"}], \"heatmapgl\": [{\"colorbar\": {\"outlinewidth\": 0, \"ticks\": \"\"}, \"colorscale\": [[0.0, \"#0d0887\"], [0.1111111111111111, \"#46039f\"], [0.2222222222222222, \"#7201a8\"], [0.3333333333333333, \"#9c179e\"], [0.4444444444444444, \"#bd3786\"], [0.5555555555555556, \"#d8576b\"], [0.6666666666666666, \"#ed7953\"], [0.7777777777777778, \"#fb9f3a\"], [0.8888888888888888, \"#fdca26\"], [1.0, \"#f0f921\"]], \"type\": \"heatmapgl\"}], \"histogram\": [{\"marker\": {\"colorbar\": {\"outlinewidth\": 0, \"ticks\": \"\"}}, \"type\": \"histogram\"}], \"histogram2d\": [{\"colorbar\": {\"outlinewidth\": 0, \"ticks\": \"\"}, \"colorscale\": [[0.0, \"#0d0887\"], [0.1111111111111111, \"#46039f\"], [0.2222222222222222, \"#7201a8\"], [0.3333333333333333, \"#9c179e\"], [0.4444444444444444, \"#bd3786\"], [0.5555555555555556, \"#d8576b\"], [0.6666666666666666, \"#ed7953\"], [0.7777777777777778, \"#fb9f3a\"], [0.8888888888888888, \"#fdca26\"], [1.0, \"#f0f921\"]], \"type\": \"histogram2d\"}], \"histogram2dcontour\": [{\"colorbar\": {\"outlinewidth\": 0, \"ticks\": \"\"}, \"colorscale\": [[0.0, \"#0d0887\"], [0.1111111111111111, \"#46039f\"], [0.2222222222222222, \"#7201a8\"], [0.3333333333333333, \"#9c179e\"], [0.4444444444444444, \"#bd3786\"], [0.5555555555555556, \"#d8576b\"], [0.6666666666666666, \"#ed7953\"], [0.7777777777777778, \"#fb9f3a\"], [0.8888888888888888, \"#fdca26\"], [1.0, \"#f0f921\"]], \"type\": \"histogram2dcontour\"}], \"mesh3d\": [{\"colorbar\": {\"outlinewidth\": 0, \"ticks\": \"\"}, \"type\": \"mesh3d\"}], \"parcoords\": [{\"line\": {\"colorbar\": {\"outlinewidth\": 0, \"ticks\": \"\"}}, \"type\": \"parcoords\"}], \"pie\": [{\"automargin\": true, \"type\": \"pie\"}], \"scatter\": [{\"marker\": {\"colorbar\": {\"outlinewidth\": 0, \"ticks\": \"\"}}, \"type\": \"scatter\"}], \"scatter3d\": [{\"line\": {\"colorbar\": {\"outlinewidth\": 0, \"ticks\": \"\"}}, \"marker\": {\"colorbar\": {\"outlinewidth\": 0, \"ticks\": \"\"}}, \"type\": \"scatter3d\"}], \"scattercarpet\": [{\"marker\": {\"colorbar\": {\"outlinewidth\": 0, \"ticks\": \"\"}}, \"type\": \"scattercarpet\"}], \"scattergeo\": [{\"marker\": {\"colorbar\": {\"outlinewidth\": 0, \"ticks\": \"\"}}, \"type\": \"scattergeo\"}], \"scattergl\": [{\"marker\": {\"colorbar\": {\"outlinewidth\": 0, \"ticks\": \"\"}}, \"type\": \"scattergl\"}], \"scattermapbox\": [{\"marker\": {\"colorbar\": {\"outlinewidth\": 0, \"ticks\": \"\"}}, \"type\": \"scattermapbox\"}], \"scatterpolar\": [{\"marker\": {\"colorbar\": {\"outlinewidth\": 0, \"ticks\": \"\"}}, \"type\": \"scatterpolar\"}], \"scatterpolargl\": [{\"marker\": {\"colorbar\": {\"outlinewidth\": 0, \"ticks\": \"\"}}, \"type\": \"scatterpolargl\"}], \"scatterternary\": [{\"marker\": {\"colorbar\": {\"outlinewidth\": 0, \"ticks\": \"\"}}, \"type\": \"scatterternary\"}], \"surface\": [{\"colorbar\": {\"outlinewidth\": 0, \"ticks\": \"\"}, \"colorscale\": [[0.0, \"#0d0887\"], [0.1111111111111111, \"#46039f\"], [0.2222222222222222, \"#7201a8\"], [0.3333333333333333, \"#9c179e\"], [0.4444444444444444, \"#bd3786\"], [0.5555555555555556, \"#d8576b\"], [0.6666666666666666, \"#ed7953\"], [0.7777777777777778, \"#fb9f3a\"], [0.8888888888888888, \"#fdca26\"], [1.0, \"#f0f921\"]], \"type\": \"surface\"}], \"table\": [{\"cells\": {\"fill\": {\"color\": \"#EBF0F8\"}, \"line\": {\"color\": \"white\"}}, \"header\": {\"fill\": {\"color\": \"#C8D4E3\"}, \"line\": {\"color\": \"white\"}}, \"type\": \"table\"}]}, \"layout\": {\"annotationdefaults\": {\"arrowcolor\": \"#2a3f5f\", \"arrowhead\": 0, \"arrowwidth\": 1}, \"coloraxis\": {\"colorbar\": {\"outlinewidth\": 0, \"ticks\": \"\"}}, \"colorscale\": {\"diverging\": [[0, \"#8e0152\"], [0.1, \"#c51b7d\"], [0.2, \"#de77ae\"], [0.3, \"#f1b6da\"], [0.4, \"#fde0ef\"], [0.5, \"#f7f7f7\"], [0.6, \"#e6f5d0\"], [0.7, \"#b8e186\"], [0.8, \"#7fbc41\"], [0.9, \"#4d9221\"], [1, \"#276419\"]], \"sequential\": [[0.0, \"#0d0887\"], [0.1111111111111111, \"#46039f\"], [0.2222222222222222, \"#7201a8\"], [0.3333333333333333, \"#9c179e\"], [0.4444444444444444, \"#bd3786\"], [0.5555555555555556, \"#d8576b\"], [0.6666666666666666, \"#ed7953\"], [0.7777777777777778, \"#fb9f3a\"], [0.8888888888888888, \"#fdca26\"], [1.0, \"#f0f921\"]], \"sequentialminus\": [[0.0, \"#0d0887\"], [0.1111111111111111, \"#46039f\"], [0.2222222222222222, \"#7201a8\"], [0.3333333333333333, \"#9c179e\"], [0.4444444444444444, \"#bd3786\"], [0.5555555555555556, \"#d8576b\"], [0.6666666666666666, \"#ed7953\"], [0.7777777777777778, \"#fb9f3a\"], [0.8888888888888888, \"#fdca26\"], [1.0, \"#f0f921\"]]}, \"colorway\": [\"#636efa\", \"#EF553B\", \"#00cc96\", \"#ab63fa\", \"#FFA15A\", \"#19d3f3\", \"#FF6692\", \"#B6E880\", \"#FF97FF\", \"#FECB52\"], \"font\": {\"color\": \"#2a3f5f\"}, \"geo\": {\"bgcolor\": \"white\", \"lakecolor\": \"white\", \"landcolor\": \"#E5ECF6\", \"showlakes\": true, \"showland\": true, \"subunitcolor\": \"white\"}, \"hoverlabel\": {\"align\": \"left\"}, \"hovermode\": \"closest\", \"mapbox\": {\"style\": \"light\"}, \"paper_bgcolor\": \"white\", \"plot_bgcolor\": \"#E5ECF6\", \"polar\": {\"angularaxis\": {\"gridcolor\": \"white\", \"linecolor\": \"white\", \"ticks\": \"\"}, \"bgcolor\": \"#E5ECF6\", \"radialaxis\": {\"gridcolor\": \"white\", \"linecolor\": \"white\", \"ticks\": \"\"}}, \"scene\": {\"xaxis\": {\"backgroundcolor\": \"#E5ECF6\", \"gridcolor\": \"white\", \"gridwidth\": 2, \"linecolor\": \"white\", \"showbackground\": true, \"ticks\": \"\", \"zerolinecolor\": \"white\"}, \"yaxis\": {\"backgroundcolor\": \"#E5ECF6\", \"gridcolor\": \"white\", \"gridwidth\": 2, \"linecolor\": \"white\", \"showbackground\": true, \"ticks\": \"\", \"zerolinecolor\": \"white\"}, \"zaxis\": {\"backgroundcolor\": \"#E5ECF6\", \"gridcolor\": \"white\", \"gridwidth\": 2, \"linecolor\": \"white\", \"showbackground\": true, \"ticks\": \"\", \"zerolinecolor\": \"white\"}}, \"shapedefaults\": {\"line\": {\"color\": \"#2a3f5f\"}}, \"ternary\": {\"aaxis\": {\"gridcolor\": \"white\", \"linecolor\": \"white\", \"ticks\": \"\"}, \"baxis\": {\"gridcolor\": \"white\", \"linecolor\": \"white\", \"ticks\": \"\"}, \"bgcolor\": \"#E5ECF6\", \"caxis\": {\"gridcolor\": \"white\", \"linecolor\": \"white\", \"ticks\": \"\"}}, \"title\": {\"x\": 0.05}, \"xaxis\": {\"automargin\": true, \"gridcolor\": \"white\", \"linecolor\": \"white\", \"ticks\": \"\", \"title\": {\"standoff\": 15}, \"zerolinecolor\": \"white\", \"zerolinewidth\": 2}, \"yaxis\": {\"automargin\": true, \"gridcolor\": \"white\", \"linecolor\": \"white\", \"ticks\": \"\", \"title\": {\"standoff\": 15}, \"zerolinecolor\": \"white\", \"zerolinewidth\": 2}}}, \"title\": {\"text\": \"Actions Overlap\"}, \"width\": 800, \"xaxis\": {\"showgrid\": false, \"showline\": false, \"showticklabels\": false, \"title\": {\"text\": \"\"}, \"zeroline\": false}, \"yaxis\": {\"showgrid\": false, \"showline\": false, \"showticklabels\": false, \"title\": {\"text\": \"\"}, \"zeroline\": false}},\n",
       "                        {\"responsive\": true}\n",
       "                    ).then(function(){\n",
       "                            \n",
       "var gd = document.getElementById('4dd79082-d59b-4d5d-823a-40b0a65eeafb');\n",
       "var x = new MutationObserver(function (mutations, observer) {{\n",
       "        var display = window.getComputedStyle(gd).display;\n",
       "        if (!display || display === 'none') {{\n",
       "            console.log([gd, 'removed!']);\n",
       "            Plotly.purge(gd);\n",
       "            observer.disconnect();\n",
       "        }}\n",
       "}});\n",
       "\n",
       "// Listen for the removal of the full notebook cells\n",
       "var notebookContainer = gd.closest('#notebook-container');\n",
       "if (notebookContainer) {{\n",
       "    x.observe(notebookContainer, {childList: true});\n",
       "}}\n",
       "\n",
       "// Listen for the clearing of the current output cell\n",
       "var outputEl = gd.closest('.output');\n",
       "if (outputEl) {{\n",
       "    x.observe(outputEl, {childList: true});\n",
       "}}\n",
       "\n",
       "                        })\n",
       "                };\n",
       "                });\n",
       "            </script>\n",
       "        </div>"
      ]
     },
     "metadata": {},
     "output_type": "display_data"
    }
   ],
   "source": [
    "fig.show()"
   ]
  },
  {
   "cell_type": "code",
   "execution_count": null,
   "metadata": {},
   "outputs": [],
   "source": []
  }
 ],
 "metadata": {
  "kernelspec": {
   "display_name": "Python 3",
   "language": "python",
   "name": "python3"
  },
  "language_info": {
   "codemirror_mode": {
    "name": "ipython",
    "version": 3
   },
   "file_extension": ".py",
   "mimetype": "text/x-python",
   "name": "python",
   "nbconvert_exporter": "python",
   "pygments_lexer": "ipython3",
   "version": "3.6.10"
  }
 },
 "nbformat": 4,
 "nbformat_minor": 4
}
